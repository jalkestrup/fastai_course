{
  "cells": [
    {
      "cell_type": "markdown",
      "metadata": {
        "id": "o4fkELTze6gT"
      },
      "source": [
        "# Plant pathology 2020"
      ]
    },
    {
      "cell_type": "code",
      "source": [
        "import os\n",
        "\n",
        "def check_environment() -> bool:\n",
        "    \"\"\"Check if the notebook is running in Google Colab or not.\n",
        "\n",
        "    Returns:\n",
        "        bool: True if running in Colab, False otherwise.\n",
        "    \"\"\"\n",
        "    return bool(os.getenv(\"COLAB_RELEASE_TAG\"))\n",
        "\n",
        "def download_utils(colab_flag):\n",
        "  \"\"\"Function to clone the required utils .py helper module if running in colab\n",
        "\n",
        "  Returns:\n",
        "    None\n",
        "  \"\"\"\n",
        "  if colab_flag:\n",
        "    !curl -o /content/setup_utils.py https://raw.githubusercontent.com/jalkestrup/fastai_course/main/10_final_project/setup_utils.py\n",
        "  else:\n",
        "    return\n",
        ""
      ],
      "metadata": {
        "id": "-1eNwsathJEO"
      },
      "execution_count": 16,
      "outputs": []
    },
    {
      "cell_type": "code",
      "source": [
        "colab_flag = check_environment()\n",
        "download_utils(colab_flag)"
      ],
      "metadata": {
        "id": "kGPk6NsIiirp",
        "outputId": "fda15870-2885-4347-846b-835a00e826db",
        "colab": {
          "base_uri": "https://localhost:8080/"
        }
      },
      "execution_count": 17,
      "outputs": [
        {
          "output_type": "stream",
          "name": "stdout",
          "text": [
            "  % Total    % Received % Xferd  Average Speed   Time    Time     Time  Current\n",
            "                                 Dload  Upload   Total   Spent    Left  Speed\n",
            "\r  0     0    0     0    0     0      0      0 --:--:-- --:--:-- --:--:--     0\r100  2701  100  2701    0     0  10964      0 --:--:-- --:--:-- --:--:-- 10979\n"
          ]
        }
      ]
    },
    {
      "cell_type": "code",
      "execution_count": 18,
      "metadata": {
        "id": "vbHd5OX8e6gV",
        "outputId": "e1de5a89-291b-4d51-cb72-c68a6000ea88",
        "colab": {
          "base_uri": "https://localhost:8080/"
        }
      },
      "outputs": [
        {
          "output_type": "stream",
          "name": "stdout",
          "text": [
            "Running in Colab...\n",
            "...Installed required dependencies\n",
            "Mounted at /content/drive/\n",
            "Sucesfully set kaggle credentials\n",
            "Data not detected, starting download\n",
            "Error: Kaggle credentials not set. Please set them before downloading data.\n"
          ]
        }
      ],
      "source": [
        "#Helper functions for setting up the environment and downloading the dataset based on compute environment\n",
        "from setup_utils import install_libraries, download_kaggle_data, set_kaggle_credentials\n",
        "\n",
        "install_libraries(colab_flag)\n",
        "\n",
        "set_kaggle_credentials(colab_flag)\n",
        "\n",
        "kaggle_dataset = 'plant-pathology-2020-fgvc7'\n",
        "download_kaggle_data(kaggle_dataset)"
      ]
    },
    {
      "cell_type": "code",
      "source": [],
      "metadata": {
        "id": "ZKNIerAlixwd"
      },
      "execution_count": null,
      "outputs": []
    }
  ],
  "metadata": {
    "kernelspec": {
      "display_name": "Python 3",
      "name": "python3"
    },
    "language_info": {
      "codemirror_mode": {
        "name": "ipython",
        "version": 3
      },
      "file_extension": ".py",
      "mimetype": "text/x-python",
      "name": "python",
      "nbconvert_exporter": "python",
      "pygments_lexer": "ipython3",
      "version": "3.11.0"
    },
    "orig_nbformat": 4,
    "colab": {
      "provenance": [],
      "gpuType": "T4"
    },
    "accelerator": "GPU"
  },
  "nbformat": 4,
  "nbformat_minor": 0
}