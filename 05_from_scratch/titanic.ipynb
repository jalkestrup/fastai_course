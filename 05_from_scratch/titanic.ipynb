{
 "cells": [
  {
   "cell_type": "code",
   "execution_count": 1,
   "metadata": {},
   "outputs": [
    {
     "name": "stdout",
     "output_type": "stream",
     "text": [
      "NOT in Colab\n"
     ]
    }
   ],
   "source": [
    "import os\n",
    "\n",
    "if os.getenv(\"COLAB_RELEASE_TAG\"):\n",
    "  colab_flag = True\n",
    "else:\n",
    "  colab_flag = False\n",
    "\n",
    "if colab_flag == True:\n",
    "   print(\"Running in Colab...\")\n",
    "   #Install Kaggle API\n",
    "   ! pip install -q kaggle\n",
    "   #Install Huggingface Datasets lib\n",
    "   ! pip install -q datasets\n",
    "   #Install Huggingface transformers & the sentencepiece\n",
    "   ! pip install -q transformers[sentencepiece,torch]\n",
    "   print(\"...Installed required dependencies\")\n",
    "else:\n",
    "   print(\"NOT in Colab\")"
   ]
  },
  {
   "cell_type": "code",
   "execution_count": 2,
   "metadata": {},
   "outputs": [
    {
     "name": "stdout",
     "output_type": "stream",
     "text": [
      "Sucesfully set kaggle credentials\n"
     ]
    }
   ],
   "source": [
    "if colab_flag == True:\n",
    "  import json\n",
    "  from google.colab import drive\n",
    "  drive.mount('/content/drive/')\n",
    "\n",
    "  # Set the file path\n",
    "  file_path = '/content/drive/MyDrive/dtu/fastAI/04_NLP/kaggle_api.json'\n",
    "\n",
    "  # Check if the file exists\n",
    "  if os.path.exists(file_path):\n",
    "      # Load the JSON file\n",
    "      with open(file_path) as f:\n",
    "          creds = json.load(f)\n",
    "      print('Sucesfully set kaggle credentials')\n",
    "  else:\n",
    "      # Handle the case when the file does not exist\n",
    "      creds = None  # or any other appropriate action you want to take\n",
    "      print('Error: File not found, Credentials NOT set')\n",
    "else:\n",
    "    import json\n",
    "    file_path = \"../secrets/kaggle_api.json\"\n",
    "    # Check if the file exists\n",
    "    if os.path.exists(file_path):\n",
    "        # Load the JSON file\n",
    "        with open(file_path) as f:\n",
    "            creds = json.load(f)\n",
    "        print('Sucesfully set kaggle credentials')\n",
    "    else:\n",
    "        # Handle the case when the file does not exist\n",
    "        creds = None  # or any other appropriate action you want to take\n",
    "        print('Error: File not found, Credentials NOT set')"
   ]
  },
  {
   "cell_type": "code",
   "execution_count": 5,
   "metadata": {},
   "outputs": [
    {
     "name": "stdout",
     "output_type": "stream",
     "text": [
      "Data not detected, starting download\n",
      "Downloading titanic.zip to /home/jealk/src/fastai_course/05_from_scratch\n"
     ]
    },
    {
     "name": "stderr",
     "output_type": "stream",
     "text": [
      "100%|██████████| 34.1k/34.1k [00:00<00:00, 2.02MB/s]"
     ]
    },
    {
     "name": "stdout",
     "output_type": "stream",
     "text": [
      "\n",
      "gender_submission.csv  test.csv  train.csv\n"
     ]
    },
    {
     "name": "stderr",
     "output_type": "stream",
     "text": [
      "\n"
     ]
    }
   ],
   "source": [
    "#using `pathlib.Path to work with paths in Python`\n",
    "from pathlib import Path\n",
    "#Set path for the titanic dataset\n",
    "path = Path('titanic')\n",
    "\n",
    "if path.exists():\n",
    "  print('Data folder exists')\n",
    "else:\n",
    "  print('Data not detected, starting download')\n",
    "  #Setup of kaggle credentials to use the API for downloading dataset\n",
    "  cred_path = Path('~/.kaggle/kaggle.json').expanduser()\n",
    "  if not cred_path.exists():\n",
    "    cred_path.parent.mkdir(exist_ok=True)\n",
    "    cred_path.write_text(json.dumps(creds))\n",
    "    #If not Json\n",
    "    #cred_path.write_text(creds)\n",
    "    cred_path.chmod(0o600)\n",
    "  import zipfile,kaggle\n",
    "  #Download data\n",
    "  kaggle.api.competition_download_cli(str(path))\n",
    "  #Unzip at path\n",
    "  zipfile.ZipFile(f'{path}.zip').extractall(path)\n",
    "\n",
    "#Verifying the the path, expects: sample_submission.csv  test.csv  train.csv\n",
    "!ls {path}"
   ]
  },
  {
   "cell_type": "code",
   "execution_count": null,
   "metadata": {},
   "outputs": [],
   "source": []
  }
 ],
 "metadata": {
  "kernelspec": {
   "display_name": "fastai",
   "language": "python",
   "name": "python3"
  },
  "language_info": {
   "codemirror_mode": {
    "name": "ipython",
    "version": 3
   },
   "file_extension": ".py",
   "mimetype": "text/x-python",
   "name": "python",
   "nbconvert_exporter": "python",
   "pygments_lexer": "ipython3",
   "version": "3.11.0"
  },
  "orig_nbformat": 4
 },
 "nbformat": 4,
 "nbformat_minor": 2
}
