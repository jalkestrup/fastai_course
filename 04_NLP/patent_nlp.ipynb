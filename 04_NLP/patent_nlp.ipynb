{
  "cells": [
    {
      "cell_type": "markdown",
      "metadata": {
        "id": "view-in-github",
        "colab_type": "text"
      },
      "source": [
        "<a href=\"https://colab.research.google.com/github/jalkestrup/fastai_course/blob/main/04_NLP/patent_nlp.ipynb\" target=\"_parent\"><img src=\"https://colab.research.google.com/assets/colab-badge.svg\" alt=\"Open In Colab\"/></a>"
      ]
    },
    {
      "cell_type": "markdown",
      "metadata": {
        "id": "HanDZstcRien"
      },
      "source": [
        "# NLP, Lesson 4\n",
        "## Patent Kaggle Competition"
      ]
    },
    {
      "cell_type": "markdown",
      "source": [
        "Install required packages> Either by pip install on colab or just running local mamba env"
      ],
      "metadata": {
        "id": "vEpck9-ItI0T"
      }
    },
    {
      "cell_type": "code",
      "execution_count": 9,
      "metadata": {
        "id": "h9LeyS0ARies",
        "outputId": "b4150d6f-86ee-49b4-8bc6-cecd91b76b19",
        "colab": {
          "base_uri": "https://localhost:8080/"
        }
      },
      "outputs": [
        {
          "output_type": "stream",
          "name": "stdout",
          "text": [
            "Running in Colab\n"
          ]
        }
      ],
      "source": [
        "import os\n",
        "\n",
        "if os.getenv(\"COLAB_RELEASE_TAG\"):\n",
        "  colab_flag = True\n",
        "else:\n",
        "  colab_flag = False\n",
        "\n",
        "if colab_flag == True:\n",
        "   print(\"Running in Colab...\")\n",
        "   #Install Kaggle API\n",
        "   ! pip install -q kaggle\n",
        "   #Install Huggingface Datasets lib\n",
        "   ! pip install -q datasets\n",
        "   #Install Huggingface transformers & the sentencepiece\n",
        "   ! pip install -q transformers[sentencepiece,torch]\n",
        "   print(\"...Installed required dependencies\")\n",
        "else:\n",
        "   print(\"NOT in Colab\")"
      ]
    },
    {
      "cell_type": "markdown",
      "source": [
        "If running on Golab, load Kaggle API secret from google drive folder by authenticating with google drive"
      ],
      "metadata": {
        "id": "PWVZlhP3tXJ6"
      }
    },
    {
      "cell_type": "code",
      "source": [
        "if colab_flag == True:\n",
        "  import json\n",
        "  from google.colab import drive\n",
        "  drive.mount('/content/drive/')\n",
        "\n",
        "  # Set the file path\n",
        "  file_path = '/content/drive/MyDrive/dtu/04_NLP/kaggle_api.json'\n",
        "\n",
        "  # Check if the file exists\n",
        "  if os.path.exists(file_path):\n",
        "      # Load the JSON file\n",
        "      with open(file_path) as f:\n",
        "          creds = json.load(f)\n",
        "  else:\n",
        "      # Handle the case when the file does not exist\n",
        "      creds = None  # or any other appropriate action you want to take\n",
        "      print('Error: File not found, Credentials NOT set')"
      ],
      "metadata": {
        "id": "RWQDdTgVrhJt",
        "outputId": "6abb253a-d2ee-49a2-bf84-d6e64b2d7817",
        "colab": {
          "base_uri": "https://localhost:8080/"
        }
      },
      "execution_count": 10,
      "outputs": [
        {
          "output_type": "stream",
          "name": "stdout",
          "text": [
            "Drive already mounted at /content/drive/; to attempt to forcibly remount, call drive.mount(\"/content/drive/\", force_remount=True).\n"
          ]
        }
      ]
    },
    {
      "cell_type": "code",
      "source": [
        "#Fill in API information from Kaggle. Delete before pushing to git.\n",
        "#In the form of '{\"username:\":\"X\", \"key\":\"Y\"}'\n",
        "#creds = ''"
      ],
      "metadata": {
        "id": "oL0LYyEsSGmF"
      },
      "execution_count": 2,
      "outputs": []
    },
    {
      "cell_type": "code",
      "execution_count": 11,
      "metadata": {
        "id": "IO2_J5q_Rieu"
      },
      "outputs": [],
      "source": [
        "#using `pathlib.Path to work with paths in Python`\n",
        "from pathlib import Path\n",
        "#Set path for the US Patent competition\n",
        "path = Path('us-patent-phrase-to-phrase-matching')"
      ]
    },
    {
      "cell_type": "code",
      "source": [
        "if path.exists():\n",
        "  print('Data folder exists')\n",
        "else:\n",
        "  print('Data not detected, starting download')\n",
        "  #Setup of kaggle credentials to use the API for downloading dataset\n",
        "  cred_path = Path('~/.kaggle/kaggle.json').expanduser()\n",
        "  if not cred_path.exists():\n",
        "    cred_path.parent.mkdir(exist_ok=True)\n",
        "    cred_path.write_text(creds)\n",
        "    cred_path.chmod(0o600)\n",
        "  import zipfile,kaggle\n",
        "  #Download data\n",
        "  kaggle.api.competition_download_cli(str(path))\n",
        "  #Unzip at path\n",
        "  zipfile.ZipFile(f'{path}.zip').extractall(path)\n",
        "\n",
        "#Verifying the the path, expects: sample_submission.csv  test.csv  train.csv\n",
        "!ls {path}"
      ],
      "metadata": {
        "id": "MQTZseOHea_3",
        "outputId": "6a2cbb1e-a3a0-4e4a-a2e8-637fef4a4a17",
        "colab": {
          "base_uri": "https://localhost:8080/"
        }
      },
      "execution_count": 12,
      "outputs": [
        {
          "output_type": "stream",
          "name": "stdout",
          "text": [
            "Data folder exists\n",
            "sample_submission.csv  test.csv  train.csv\n"
          ]
        }
      ]
    },
    {
      "cell_type": "code",
      "source": [
        "import pandas as pd"
      ],
      "metadata": {
        "id": "8-IDk81eVRDK"
      },
      "execution_count": 13,
      "outputs": []
    },
    {
      "cell_type": "code",
      "source": [
        "#Load data as DF\n",
        "df = pd.read_csv(path/'train.csv')\n",
        "df.head()"
      ],
      "metadata": {
        "id": "TlMbYkqyVcVp",
        "outputId": "c8f3f7dc-cdc9-4bc6-cba6-fdebfacefe17",
        "colab": {
          "base_uri": "https://localhost:8080/",
          "height": 206
        }
      },
      "execution_count": 14,
      "outputs": [
        {
          "output_type": "execute_result",
          "data": {
            "text/plain": [
              "                 id     anchor                  target context  score\n",
              "0  37d61fd2272659b1  abatement  abatement of pollution     A47   0.50\n",
              "1  7b9652b17b68b7a4  abatement          act of abating     A47   0.75\n",
              "2  36d72442aefd8232  abatement         active catalyst     A47   0.25\n",
              "3  5296b0c19e1ce60e  abatement     eliminating process     A47   0.50\n",
              "4  54c1e3b9184cb5b6  abatement           forest region     A47   0.00"
            ],
            "text/html": [
              "\n",
              "\n",
              "  <div id=\"df-652603ff-d60b-41d9-bd3d-63511312fd54\">\n",
              "    <div class=\"colab-df-container\">\n",
              "      <div>\n",
              "<style scoped>\n",
              "    .dataframe tbody tr th:only-of-type {\n",
              "        vertical-align: middle;\n",
              "    }\n",
              "\n",
              "    .dataframe tbody tr th {\n",
              "        vertical-align: top;\n",
              "    }\n",
              "\n",
              "    .dataframe thead th {\n",
              "        text-align: right;\n",
              "    }\n",
              "</style>\n",
              "<table border=\"1\" class=\"dataframe\">\n",
              "  <thead>\n",
              "    <tr style=\"text-align: right;\">\n",
              "      <th></th>\n",
              "      <th>id</th>\n",
              "      <th>anchor</th>\n",
              "      <th>target</th>\n",
              "      <th>context</th>\n",
              "      <th>score</th>\n",
              "    </tr>\n",
              "  </thead>\n",
              "  <tbody>\n",
              "    <tr>\n",
              "      <th>0</th>\n",
              "      <td>37d61fd2272659b1</td>\n",
              "      <td>abatement</td>\n",
              "      <td>abatement of pollution</td>\n",
              "      <td>A47</td>\n",
              "      <td>0.50</td>\n",
              "    </tr>\n",
              "    <tr>\n",
              "      <th>1</th>\n",
              "      <td>7b9652b17b68b7a4</td>\n",
              "      <td>abatement</td>\n",
              "      <td>act of abating</td>\n",
              "      <td>A47</td>\n",
              "      <td>0.75</td>\n",
              "    </tr>\n",
              "    <tr>\n",
              "      <th>2</th>\n",
              "      <td>36d72442aefd8232</td>\n",
              "      <td>abatement</td>\n",
              "      <td>active catalyst</td>\n",
              "      <td>A47</td>\n",
              "      <td>0.25</td>\n",
              "    </tr>\n",
              "    <tr>\n",
              "      <th>3</th>\n",
              "      <td>5296b0c19e1ce60e</td>\n",
              "      <td>abatement</td>\n",
              "      <td>eliminating process</td>\n",
              "      <td>A47</td>\n",
              "      <td>0.50</td>\n",
              "    </tr>\n",
              "    <tr>\n",
              "      <th>4</th>\n",
              "      <td>54c1e3b9184cb5b6</td>\n",
              "      <td>abatement</td>\n",
              "      <td>forest region</td>\n",
              "      <td>A47</td>\n",
              "      <td>0.00</td>\n",
              "    </tr>\n",
              "  </tbody>\n",
              "</table>\n",
              "</div>\n",
              "      <button class=\"colab-df-convert\" onclick=\"convertToInteractive('df-652603ff-d60b-41d9-bd3d-63511312fd54')\"\n",
              "              title=\"Convert this dataframe to an interactive table.\"\n",
              "              style=\"display:none;\">\n",
              "\n",
              "  <svg xmlns=\"http://www.w3.org/2000/svg\" height=\"24px\"viewBox=\"0 0 24 24\"\n",
              "       width=\"24px\">\n",
              "    <path d=\"M0 0h24v24H0V0z\" fill=\"none\"/>\n",
              "    <path d=\"M18.56 5.44l.94 2.06.94-2.06 2.06-.94-2.06-.94-.94-2.06-.94 2.06-2.06.94zm-11 1L8.5 8.5l.94-2.06 2.06-.94-2.06-.94L8.5 2.5l-.94 2.06-2.06.94zm10 10l.94 2.06.94-2.06 2.06-.94-2.06-.94-.94-2.06-.94 2.06-2.06.94z\"/><path d=\"M17.41 7.96l-1.37-1.37c-.4-.4-.92-.59-1.43-.59-.52 0-1.04.2-1.43.59L10.3 9.45l-7.72 7.72c-.78.78-.78 2.05 0 2.83L4 21.41c.39.39.9.59 1.41.59.51 0 1.02-.2 1.41-.59l7.78-7.78 2.81-2.81c.8-.78.8-2.07 0-2.86zM5.41 20L4 18.59l7.72-7.72 1.47 1.35L5.41 20z\"/>\n",
              "  </svg>\n",
              "      </button>\n",
              "\n",
              "\n",
              "\n",
              "    <div id=\"df-09085f2a-0e46-4be7-9ba4-0eb055b2224f\">\n",
              "      <button class=\"colab-df-quickchart\" onclick=\"quickchart('df-09085f2a-0e46-4be7-9ba4-0eb055b2224f')\"\n",
              "              title=\"Suggest charts.\"\n",
              "              style=\"display:none;\">\n",
              "\n",
              "<svg xmlns=\"http://www.w3.org/2000/svg\" height=\"24px\"viewBox=\"0 0 24 24\"\n",
              "     width=\"24px\">\n",
              "    <g>\n",
              "        <path d=\"M19 3H5c-1.1 0-2 .9-2 2v14c0 1.1.9 2 2 2h14c1.1 0 2-.9 2-2V5c0-1.1-.9-2-2-2zM9 17H7v-7h2v7zm4 0h-2V7h2v10zm4 0h-2v-4h2v4z\"/>\n",
              "    </g>\n",
              "</svg>\n",
              "      </button>\n",
              "    </div>\n",
              "\n",
              "<style>\n",
              "  .colab-df-quickchart {\n",
              "    background-color: #E8F0FE;\n",
              "    border: none;\n",
              "    border-radius: 50%;\n",
              "    cursor: pointer;\n",
              "    display: none;\n",
              "    fill: #1967D2;\n",
              "    height: 32px;\n",
              "    padding: 0 0 0 0;\n",
              "    width: 32px;\n",
              "  }\n",
              "\n",
              "  .colab-df-quickchart:hover {\n",
              "    background-color: #E2EBFA;\n",
              "    box-shadow: 0px 1px 2px rgba(60, 64, 67, 0.3), 0px 1px 3px 1px rgba(60, 64, 67, 0.15);\n",
              "    fill: #174EA6;\n",
              "  }\n",
              "\n",
              "  [theme=dark] .colab-df-quickchart {\n",
              "    background-color: #3B4455;\n",
              "    fill: #D2E3FC;\n",
              "  }\n",
              "\n",
              "  [theme=dark] .colab-df-quickchart:hover {\n",
              "    background-color: #434B5C;\n",
              "    box-shadow: 0px 1px 3px 1px rgba(0, 0, 0, 0.15);\n",
              "    filter: drop-shadow(0px 1px 2px rgba(0, 0, 0, 0.3));\n",
              "    fill: #FFFFFF;\n",
              "  }\n",
              "</style>\n",
              "\n",
              "    <script>\n",
              "      async function quickchart(key) {\n",
              "        const containerElement = document.querySelector('#' + key);\n",
              "        const charts = await google.colab.kernel.invokeFunction(\n",
              "            'suggestCharts', [key], {});\n",
              "      }\n",
              "    </script>\n",
              "\n",
              "      <script>\n",
              "\n",
              "function displayQuickchartButton(domScope) {\n",
              "  let quickchartButtonEl =\n",
              "    domScope.querySelector('#df-09085f2a-0e46-4be7-9ba4-0eb055b2224f button.colab-df-quickchart');\n",
              "  quickchartButtonEl.style.display =\n",
              "    google.colab.kernel.accessAllowed ? 'block' : 'none';\n",
              "}\n",
              "\n",
              "        displayQuickchartButton(document);\n",
              "      </script>\n",
              "      <style>\n",
              "    .colab-df-container {\n",
              "      display:flex;\n",
              "      flex-wrap:wrap;\n",
              "      gap: 12px;\n",
              "    }\n",
              "\n",
              "    .colab-df-convert {\n",
              "      background-color: #E8F0FE;\n",
              "      border: none;\n",
              "      border-radius: 50%;\n",
              "      cursor: pointer;\n",
              "      display: none;\n",
              "      fill: #1967D2;\n",
              "      height: 32px;\n",
              "      padding: 0 0 0 0;\n",
              "      width: 32px;\n",
              "    }\n",
              "\n",
              "    .colab-df-convert:hover {\n",
              "      background-color: #E2EBFA;\n",
              "      box-shadow: 0px 1px 2px rgba(60, 64, 67, 0.3), 0px 1px 3px 1px rgba(60, 64, 67, 0.15);\n",
              "      fill: #174EA6;\n",
              "    }\n",
              "\n",
              "    [theme=dark] .colab-df-convert {\n",
              "      background-color: #3B4455;\n",
              "      fill: #D2E3FC;\n",
              "    }\n",
              "\n",
              "    [theme=dark] .colab-df-convert:hover {\n",
              "      background-color: #434B5C;\n",
              "      box-shadow: 0px 1px 3px 1px rgba(0, 0, 0, 0.15);\n",
              "      filter: drop-shadow(0px 1px 2px rgba(0, 0, 0, 0.3));\n",
              "      fill: #FFFFFF;\n",
              "    }\n",
              "  </style>\n",
              "\n",
              "      <script>\n",
              "        const buttonEl =\n",
              "          document.querySelector('#df-652603ff-d60b-41d9-bd3d-63511312fd54 button.colab-df-convert');\n",
              "        buttonEl.style.display =\n",
              "          google.colab.kernel.accessAllowed ? 'block' : 'none';\n",
              "\n",
              "        async function convertToInteractive(key) {\n",
              "          const element = document.querySelector('#df-652603ff-d60b-41d9-bd3d-63511312fd54');\n",
              "          const dataTable =\n",
              "            await google.colab.kernel.invokeFunction('convertToInteractive',\n",
              "                                                     [key], {});\n",
              "          if (!dataTable) return;\n",
              "\n",
              "          const docLinkHtml = 'Like what you see? Visit the ' +\n",
              "            '<a target=\"_blank\" href=https://colab.research.google.com/notebooks/data_table.ipynb>data table notebook</a>'\n",
              "            + ' to learn more about interactive tables.';\n",
              "          element.innerHTML = '';\n",
              "          dataTable['output_type'] = 'display_data';\n",
              "          await google.colab.output.renderOutput(dataTable, element);\n",
              "          const docLink = document.createElement('div');\n",
              "          docLink.innerHTML = docLinkHtml;\n",
              "          element.appendChild(docLink);\n",
              "        }\n",
              "      </script>\n",
              "    </div>\n",
              "  </div>\n"
            ]
          },
          "metadata": {},
          "execution_count": 14
        }
      ]
    },
    {
      "cell_type": "code",
      "source": [
        "df.describe(include='object')"
      ],
      "metadata": {
        "id": "ELylym99VfLw",
        "outputId": "4409a168-97db-440a-e23f-de01fd8893f7",
        "colab": {
          "base_uri": "https://localhost:8080/",
          "height": 175
        }
      },
      "execution_count": 15,
      "outputs": [
        {
          "output_type": "execute_result",
          "data": {
            "text/plain": [
              "                      id                       anchor       target context\n",
              "count              36473                        36473        36473   36473\n",
              "unique             36473                          733        29340     106\n",
              "top     37d61fd2272659b1  component composite coating  composition     H01\n",
              "freq                   1                          152           24    2186"
            ],
            "text/html": [
              "\n",
              "\n",
              "  <div id=\"df-4d999dce-d628-4175-8ceb-7a87f5dfd751\">\n",
              "    <div class=\"colab-df-container\">\n",
              "      <div>\n",
              "<style scoped>\n",
              "    .dataframe tbody tr th:only-of-type {\n",
              "        vertical-align: middle;\n",
              "    }\n",
              "\n",
              "    .dataframe tbody tr th {\n",
              "        vertical-align: top;\n",
              "    }\n",
              "\n",
              "    .dataframe thead th {\n",
              "        text-align: right;\n",
              "    }\n",
              "</style>\n",
              "<table border=\"1\" class=\"dataframe\">\n",
              "  <thead>\n",
              "    <tr style=\"text-align: right;\">\n",
              "      <th></th>\n",
              "      <th>id</th>\n",
              "      <th>anchor</th>\n",
              "      <th>target</th>\n",
              "      <th>context</th>\n",
              "    </tr>\n",
              "  </thead>\n",
              "  <tbody>\n",
              "    <tr>\n",
              "      <th>count</th>\n",
              "      <td>36473</td>\n",
              "      <td>36473</td>\n",
              "      <td>36473</td>\n",
              "      <td>36473</td>\n",
              "    </tr>\n",
              "    <tr>\n",
              "      <th>unique</th>\n",
              "      <td>36473</td>\n",
              "      <td>733</td>\n",
              "      <td>29340</td>\n",
              "      <td>106</td>\n",
              "    </tr>\n",
              "    <tr>\n",
              "      <th>top</th>\n",
              "      <td>37d61fd2272659b1</td>\n",
              "      <td>component composite coating</td>\n",
              "      <td>composition</td>\n",
              "      <td>H01</td>\n",
              "    </tr>\n",
              "    <tr>\n",
              "      <th>freq</th>\n",
              "      <td>1</td>\n",
              "      <td>152</td>\n",
              "      <td>24</td>\n",
              "      <td>2186</td>\n",
              "    </tr>\n",
              "  </tbody>\n",
              "</table>\n",
              "</div>\n",
              "      <button class=\"colab-df-convert\" onclick=\"convertToInteractive('df-4d999dce-d628-4175-8ceb-7a87f5dfd751')\"\n",
              "              title=\"Convert this dataframe to an interactive table.\"\n",
              "              style=\"display:none;\">\n",
              "\n",
              "  <svg xmlns=\"http://www.w3.org/2000/svg\" height=\"24px\"viewBox=\"0 0 24 24\"\n",
              "       width=\"24px\">\n",
              "    <path d=\"M0 0h24v24H0V0z\" fill=\"none\"/>\n",
              "    <path d=\"M18.56 5.44l.94 2.06.94-2.06 2.06-.94-2.06-.94-.94-2.06-.94 2.06-2.06.94zm-11 1L8.5 8.5l.94-2.06 2.06-.94-2.06-.94L8.5 2.5l-.94 2.06-2.06.94zm10 10l.94 2.06.94-2.06 2.06-.94-2.06-.94-.94-2.06-.94 2.06-2.06.94z\"/><path d=\"M17.41 7.96l-1.37-1.37c-.4-.4-.92-.59-1.43-.59-.52 0-1.04.2-1.43.59L10.3 9.45l-7.72 7.72c-.78.78-.78 2.05 0 2.83L4 21.41c.39.39.9.59 1.41.59.51 0 1.02-.2 1.41-.59l7.78-7.78 2.81-2.81c.8-.78.8-2.07 0-2.86zM5.41 20L4 18.59l7.72-7.72 1.47 1.35L5.41 20z\"/>\n",
              "  </svg>\n",
              "      </button>\n",
              "\n",
              "\n",
              "\n",
              "    <div id=\"df-1686caf0-9721-4ef7-83d5-f3430c677e04\">\n",
              "      <button class=\"colab-df-quickchart\" onclick=\"quickchart('df-1686caf0-9721-4ef7-83d5-f3430c677e04')\"\n",
              "              title=\"Suggest charts.\"\n",
              "              style=\"display:none;\">\n",
              "\n",
              "<svg xmlns=\"http://www.w3.org/2000/svg\" height=\"24px\"viewBox=\"0 0 24 24\"\n",
              "     width=\"24px\">\n",
              "    <g>\n",
              "        <path d=\"M19 3H5c-1.1 0-2 .9-2 2v14c0 1.1.9 2 2 2h14c1.1 0 2-.9 2-2V5c0-1.1-.9-2-2-2zM9 17H7v-7h2v7zm4 0h-2V7h2v10zm4 0h-2v-4h2v4z\"/>\n",
              "    </g>\n",
              "</svg>\n",
              "      </button>\n",
              "    </div>\n",
              "\n",
              "<style>\n",
              "  .colab-df-quickchart {\n",
              "    background-color: #E8F0FE;\n",
              "    border: none;\n",
              "    border-radius: 50%;\n",
              "    cursor: pointer;\n",
              "    display: none;\n",
              "    fill: #1967D2;\n",
              "    height: 32px;\n",
              "    padding: 0 0 0 0;\n",
              "    width: 32px;\n",
              "  }\n",
              "\n",
              "  .colab-df-quickchart:hover {\n",
              "    background-color: #E2EBFA;\n",
              "    box-shadow: 0px 1px 2px rgba(60, 64, 67, 0.3), 0px 1px 3px 1px rgba(60, 64, 67, 0.15);\n",
              "    fill: #174EA6;\n",
              "  }\n",
              "\n",
              "  [theme=dark] .colab-df-quickchart {\n",
              "    background-color: #3B4455;\n",
              "    fill: #D2E3FC;\n",
              "  }\n",
              "\n",
              "  [theme=dark] .colab-df-quickchart:hover {\n",
              "    background-color: #434B5C;\n",
              "    box-shadow: 0px 1px 3px 1px rgba(0, 0, 0, 0.15);\n",
              "    filter: drop-shadow(0px 1px 2px rgba(0, 0, 0, 0.3));\n",
              "    fill: #FFFFFF;\n",
              "  }\n",
              "</style>\n",
              "\n",
              "    <script>\n",
              "      async function quickchart(key) {\n",
              "        const containerElement = document.querySelector('#' + key);\n",
              "        const charts = await google.colab.kernel.invokeFunction(\n",
              "            'suggestCharts', [key], {});\n",
              "      }\n",
              "    </script>\n",
              "\n",
              "      <script>\n",
              "\n",
              "function displayQuickchartButton(domScope) {\n",
              "  let quickchartButtonEl =\n",
              "    domScope.querySelector('#df-1686caf0-9721-4ef7-83d5-f3430c677e04 button.colab-df-quickchart');\n",
              "  quickchartButtonEl.style.display =\n",
              "    google.colab.kernel.accessAllowed ? 'block' : 'none';\n",
              "}\n",
              "\n",
              "        displayQuickchartButton(document);\n",
              "      </script>\n",
              "      <style>\n",
              "    .colab-df-container {\n",
              "      display:flex;\n",
              "      flex-wrap:wrap;\n",
              "      gap: 12px;\n",
              "    }\n",
              "\n",
              "    .colab-df-convert {\n",
              "      background-color: #E8F0FE;\n",
              "      border: none;\n",
              "      border-radius: 50%;\n",
              "      cursor: pointer;\n",
              "      display: none;\n",
              "      fill: #1967D2;\n",
              "      height: 32px;\n",
              "      padding: 0 0 0 0;\n",
              "      width: 32px;\n",
              "    }\n",
              "\n",
              "    .colab-df-convert:hover {\n",
              "      background-color: #E2EBFA;\n",
              "      box-shadow: 0px 1px 2px rgba(60, 64, 67, 0.3), 0px 1px 3px 1px rgba(60, 64, 67, 0.15);\n",
              "      fill: #174EA6;\n",
              "    }\n",
              "\n",
              "    [theme=dark] .colab-df-convert {\n",
              "      background-color: #3B4455;\n",
              "      fill: #D2E3FC;\n",
              "    }\n",
              "\n",
              "    [theme=dark] .colab-df-convert:hover {\n",
              "      background-color: #434B5C;\n",
              "      box-shadow: 0px 1px 3px 1px rgba(0, 0, 0, 0.15);\n",
              "      filter: drop-shadow(0px 1px 2px rgba(0, 0, 0, 0.3));\n",
              "      fill: #FFFFFF;\n",
              "    }\n",
              "  </style>\n",
              "\n",
              "      <script>\n",
              "        const buttonEl =\n",
              "          document.querySelector('#df-4d999dce-d628-4175-8ceb-7a87f5dfd751 button.colab-df-convert');\n",
              "        buttonEl.style.display =\n",
              "          google.colab.kernel.accessAllowed ? 'block' : 'none';\n",
              "\n",
              "        async function convertToInteractive(key) {\n",
              "          const element = document.querySelector('#df-4d999dce-d628-4175-8ceb-7a87f5dfd751');\n",
              "          const dataTable =\n",
              "            await google.colab.kernel.invokeFunction('convertToInteractive',\n",
              "                                                     [key], {});\n",
              "          if (!dataTable) return;\n",
              "\n",
              "          const docLinkHtml = 'Like what you see? Visit the ' +\n",
              "            '<a target=\"_blank\" href=https://colab.research.google.com/notebooks/data_table.ipynb>data table notebook</a>'\n",
              "            + ' to learn more about interactive tables.';\n",
              "          element.innerHTML = '';\n",
              "          dataTable['output_type'] = 'display_data';\n",
              "          await google.colab.output.renderOutput(dataTable, element);\n",
              "          const docLink = document.createElement('div');\n",
              "          docLink.innerHTML = docLinkHtml;\n",
              "          element.appendChild(docLink);\n",
              "        }\n",
              "      </script>\n",
              "    </div>\n",
              "  </div>\n"
            ]
          },
          "metadata": {},
          "execution_count": 15
        }
      ]
    },
    {
      "cell_type": "markdown",
      "source": [
        "To make the input suitable for a transformer model we join the entire input to a single string, and add a \"random\" delimiter between context, anchor and target so that the model can learn to distinguish seperations."
      ],
      "metadata": {
        "id": "ax5KyZMDXcDb"
      }
    },
    {
      "cell_type": "code",
      "source": [
        "df['input'] = 'TEXT1: ' + df.context + '; TEXT2: ' + df.target + '; ANC1: ' + df.anchor"
      ],
      "metadata": {
        "id": "_N2ilmRjYB0L"
      },
      "execution_count": 16,
      "outputs": []
    },
    {
      "cell_type": "code",
      "source": [
        "df.input.head()\n"
      ],
      "metadata": {
        "id": "PrysunzRYCkW",
        "outputId": "ca91e10d-d208-4481-939b-5ba990e54045",
        "colab": {
          "base_uri": "https://localhost:8080/"
        }
      },
      "execution_count": 17,
      "outputs": [
        {
          "output_type": "execute_result",
          "data": {
            "text/plain": [
              "0    TEXT1: A47; TEXT2: abatement of pollution; ANC...\n",
              "1    TEXT1: A47; TEXT2: act of abating; ANC1: abate...\n",
              "2    TEXT1: A47; TEXT2: active catalyst; ANC1: abat...\n",
              "3    TEXT1: A47; TEXT2: eliminating process; ANC1: ...\n",
              "4    TEXT1: A47; TEXT2: forest region; ANC1: abatement\n",
              "Name: input, dtype: object"
            ]
          },
          "metadata": {},
          "execution_count": 17
        }
      ]
    },
    {
      "cell_type": "code",
      "source": [
        "#Convert dataframe to Dataset object\n",
        "from datasets import Dataset, DatasetDict\n",
        "ds = Dataset.from_pandas(df)\n",
        "ds"
      ],
      "metadata": {
        "id": "rQM0p00vbs-j",
        "outputId": "aaf2c4b8-ab39-4dc1-8432-6220de11102d",
        "colab": {
          "base_uri": "https://localhost:8080/"
        }
      },
      "execution_count": 18,
      "outputs": [
        {
          "output_type": "execute_result",
          "data": {
            "text/plain": [
              "Dataset({\n",
              "    features: ['id', 'anchor', 'target', 'context', 'score', 'input'],\n",
              "    num_rows: 36473\n",
              "})"
            ]
          },
          "metadata": {},
          "execution_count": 18
        }
      ]
    },
    {
      "cell_type": "markdown",
      "source": [
        "We can't pass the texts directly into a model. A deep learning model expects numbers as inputs, not English sentences. So we need to do two things:\n",
        "\n",
        "- Tokenization: Split each text up into words (or actually, as we'll see, into tokens)\n",
        "- Numericalization: Convert each word (or token) into a number."
      ],
      "metadata": {
        "id": "duv4WlOab9Su"
      }
    },
    {
      "cell_type": "code",
      "source": [
        "model_nm = 'microsoft/deberta-v3-small'"
      ],
      "metadata": {
        "id": "ECew1knDcRtj"
      },
      "execution_count": 19,
      "outputs": []
    },
    {
      "cell_type": "code",
      "source": [
        "#AutoTokenizer will create a tokenizer appropriate for a given model:\n",
        "from transformers import AutoModelForSequenceClassification, AutoTokenizer\n",
        "tokz = AutoTokenizer.from_pretrained(model_nm)\n"
      ],
      "metadata": {
        "id": "pHN7f-Q2cTgS",
        "outputId": "117be64f-2b30-4992-ee23-bab15d1bf503",
        "colab": {
          "base_uri": "https://localhost:8080/"
        }
      },
      "execution_count": 20,
      "outputs": [
        {
          "output_type": "stream",
          "name": "stderr",
          "text": [
            "Special tokens have been added in the vocabulary, make sure the associated word embeddings are fine-tuned or trained.\n",
            "/usr/local/lib/python3.10/dist-packages/transformers/convert_slow_tokenizer.py:454: UserWarning: The sentencepiece tokenizer that you are converting to a fast tokenizer uses the byte fallback option which is not implemented in the fast tokenizers. In practice this means that the fast version of the tokenizer can produce unknown tokens whereas the sentencepiece version would have converted these unknown tokens into a sequence of byte tokens matching the original piece of text.\n",
            "  warnings.warn(\n",
            "Special tokens have been added in the vocabulary, make sure the associated word embeddings are fine-tuned or trained.\n"
          ]
        }
      ]
    },
    {
      "cell_type": "code",
      "source": [
        "#Excample of splitting a text into \"Tokens\"\n",
        "tokz.tokenize(\"Howdy my name is Jesper, I'm delighted to be a ornithorhynchus anatinus\")\n"
      ],
      "metadata": {
        "id": "s8tZQhD-chnA",
        "outputId": "8c108bf0-4eca-4ab3-c70e-a9f8f09c8452",
        "colab": {
          "base_uri": "https://localhost:8080/"
        }
      },
      "execution_count": 21,
      "outputs": [
        {
          "output_type": "execute_result",
          "data": {
            "text/plain": [
              "['▁Howdy',\n",
              " '▁my',\n",
              " '▁name',\n",
              " '▁is',\n",
              " '▁Jesper',\n",
              " ',',\n",
              " '▁I',\n",
              " \"'\",\n",
              " 'm',\n",
              " '▁delighted',\n",
              " '▁to',\n",
              " '▁be',\n",
              " '▁a',\n",
              " '▁or',\n",
              " 'ni',\n",
              " 'tho',\n",
              " 'rhynch',\n",
              " 'us',\n",
              " '▁an',\n",
              " 'at',\n",
              " 'inus']"
            ]
          },
          "metadata": {},
          "execution_count": 21
        }
      ]
    },
    {
      "cell_type": "markdown",
      "source": [
        "Uncommon words will be split into pieces. The start of a new word is represented by ▁:"
      ],
      "metadata": {
        "id": "WSk5kzLchOWw"
      }
    },
    {
      "cell_type": "code",
      "source": [
        "def tok_func(x):\n",
        "  return tokz(x['input'])"
      ],
      "metadata": {
        "id": "vzwNJvQghbJv"
      },
      "execution_count": 22,
      "outputs": []
    },
    {
      "cell_type": "code",
      "source": [
        "#To run this quickly in parallel on every row in our dataset, use map:\n",
        "tok_ds = ds.map(tok_func, batched=True)\n",
        "#Took 5s to run"
      ],
      "metadata": {
        "id": "gbbqbDwFh6Ye",
        "outputId": "795e89af-611a-40ca-b88a-dba6d274c81b",
        "colab": {
          "base_uri": "https://localhost:8080/",
          "height": 17,
          "referenced_widgets": [
            "6b3d7c69d44341a4b07a19ae299ef995",
            "747f927fa2244dc38e4fe383d9f37e1e",
            "2572c32b6bdc45098a7cb037ba22bc4a",
            "c0a9ec5d89d6442382e1ebe8e9f2bc6f",
            "4ac1213b1472445a876d2bf219d5e17e",
            "b419679290884a2a8ea6da051a5500ef",
            "d5e9d9546bbd433b9bc6697c172db1d6",
            "b19ced07254347eaacb48ab00832ba13",
            "b8a199153ea5452286ceb3d99811be5e",
            "ca4359501d13467c88eb62d0228a1b49",
            "0e2f29e87f754c689418b0496924c23d"
          ]
        }
      },
      "execution_count": 23,
      "outputs": [
        {
          "output_type": "display_data",
          "data": {
            "text/plain": [
              "Map:   0%|          | 0/36473 [00:00<?, ? examples/s]"
            ],
            "application/vnd.jupyter.widget-view+json": {
              "version_major": 2,
              "version_minor": 0,
              "model_id": "6b3d7c69d44341a4b07a19ae299ef995"
            }
          },
          "metadata": {}
        }
      ]
    },
    {
      "cell_type": "code",
      "source": [
        "row = tok_ds[0]\n",
        "row['input'], row['input_ids']"
      ],
      "metadata": {
        "id": "gY96fYvUiAZc",
        "outputId": "f4b3293f-2db3-4fd3-c2bd-4a9964f64b6e",
        "colab": {
          "base_uri": "https://localhost:8080/"
        }
      },
      "execution_count": 24,
      "outputs": [
        {
          "output_type": "execute_result",
          "data": {
            "text/plain": [
              "('TEXT1: A47; TEXT2: abatement of pollution; ANC1: abatement',\n",
              " [1,\n",
              "  54453,\n",
              "  435,\n",
              "  294,\n",
              "  336,\n",
              "  5753,\n",
              "  346,\n",
              "  54453,\n",
              "  445,\n",
              "  294,\n",
              "  47284,\n",
              "  265,\n",
              "  6435,\n",
              "  346,\n",
              "  23702,\n",
              "  435,\n",
              "  294,\n",
              "  47284,\n",
              "  2])"
            ]
          },
          "metadata": {},
          "execution_count": 24
        }
      ]
    },
    {
      "cell_type": "code",
      "source": [
        "print(f\"Copied underscore, {tokz.vocab['▁of']}\")\n",
        "#Strange error, the underscore that my keyboard output seem to be a different character than that used in the tokz dict\n",
        "print(f\"Underscore from keyboard, {tokz.vocab['_of']}\")\n",
        "#Likely related to this unicode: https://tex.stackexchange.com/questions/429171/package-inputenc-error-unicode-char-u2581-inputenc-not-set-up-for-use\n",
        "#Turns out that Tokz uses LOWER ONE EIGHTH BLOCK underscore with unicode 2581\n",
        "#My keyboard underscore outputs LOW LINE w. unicode 005F"
      ],
      "metadata": {
        "id": "hSjTAYTYiH7G",
        "outputId": "43c67151-b008-4d60-d416-58863014225f",
        "colab": {
          "base_uri": "https://localhost:8080/",
          "height": 304
        }
      },
      "execution_count": 25,
      "outputs": [
        {
          "output_type": "stream",
          "name": "stdout",
          "text": [
            "Copied underscore, 265\n"
          ]
        },
        {
          "output_type": "error",
          "ename": "KeyError",
          "evalue": "ignored",
          "traceback": [
            "\u001b[0;31m---------------------------------------------------------------------------\u001b[0m",
            "\u001b[0;31mKeyError\u001b[0m                                  Traceback (most recent call last)",
            "\u001b[0;32m<ipython-input-25-7cab4949b777>\u001b[0m in \u001b[0;36m<cell line: 3>\u001b[0;34m()\u001b[0m\n\u001b[1;32m      1\u001b[0m \u001b[0mprint\u001b[0m\u001b[0;34m(\u001b[0m\u001b[0;34mf\"Copied underscore, {tokz.vocab['▁of']}\"\u001b[0m\u001b[0;34m)\u001b[0m\u001b[0;34m\u001b[0m\u001b[0;34m\u001b[0m\u001b[0m\n\u001b[1;32m      2\u001b[0m \u001b[0;31m#Strange error, the underscore that my keyboard output seem to be a different character than that used in the tokz dict\u001b[0m\u001b[0;34m\u001b[0m\u001b[0;34m\u001b[0m\u001b[0m\n\u001b[0;32m----> 3\u001b[0;31m \u001b[0mprint\u001b[0m\u001b[0;34m(\u001b[0m\u001b[0;34mf\"Underscore from keyboard, {tokz.vocab['_of']}\"\u001b[0m\u001b[0;34m)\u001b[0m\u001b[0;34m\u001b[0m\u001b[0;34m\u001b[0m\u001b[0m\n\u001b[0m\u001b[1;32m      4\u001b[0m \u001b[0;31m#Likely related to this unicode: https://tex.stackexchange.com/questions/429171/package-inputenc-error-unicode-char-u2581-inputenc-not-set-up-for-use\u001b[0m\u001b[0;34m\u001b[0m\u001b[0;34m\u001b[0m\u001b[0m\n\u001b[1;32m      5\u001b[0m \u001b[0;31m#Turns out that Tokz uses LOWER ONE EIGHTH BLOCK underscore with unicode 2581\u001b[0m\u001b[0;34m\u001b[0m\u001b[0;34m\u001b[0m\u001b[0m\n",
            "\u001b[0;31mKeyError\u001b[0m: '_of'"
          ]
        }
      ]
    },
    {
      "cell_type": "markdown",
      "source": [
        "The Transformers library assume that labels are in a column named labels (but they are currently in score), renaming:"
      ],
      "metadata": {
        "id": "6bZCQ5lOmoi1"
      }
    },
    {
      "cell_type": "code",
      "source": [
        "tok_ds = tok_ds.rename_columns({'score':'labels'})"
      ],
      "metadata": {
        "id": "p1UBl2SSloex"
      },
      "execution_count": 26,
      "outputs": []
    },
    {
      "cell_type": "markdown",
      "source": [
        "# Training the model"
      ],
      "metadata": {
        "id": "nrizx7LwmxBU"
      }
    },
    {
      "cell_type": "code",
      "source": [
        "#Split our dataset w 25% for validation\n",
        "#Per default, datasets create the validationset with the name \"test\"\n",
        "dds = tok_ds.train_test_split(0.25, seed=42)\n",
        "dds"
      ],
      "metadata": {
        "id": "wKmoOwZG0PpQ",
        "outputId": "27604925-8496-4243-b5aa-b34bed9597c3",
        "colab": {
          "base_uri": "https://localhost:8080/"
        }
      },
      "execution_count": 51,
      "outputs": [
        {
          "output_type": "execute_result",
          "data": {
            "text/plain": [
              "DatasetDict({\n",
              "    train: Dataset({\n",
              "        features: ['id', 'anchor', 'target', 'context', 'labels', 'input', 'input_ids', 'token_type_ids', 'attention_mask'],\n",
              "        num_rows: 27354\n",
              "    })\n",
              "    test: Dataset({\n",
              "        features: ['id', 'anchor', 'target', 'context', 'labels', 'input', 'input_ids', 'token_type_ids', 'attention_mask'],\n",
              "        num_rows: 9119\n",
              "    })\n",
              "})"
            ]
          },
          "metadata": {},
          "execution_count": 51
        }
      ]
    },
    {
      "cell_type": "markdown",
      "source": [
        "The Patent competition is evaluated on the pearson coefficient. Using the np Corrcoef we write a small function that grabs the coefficient from the 2x2 matrix in which the diagonals are 1.0\n",
        "\n",
        "Secondly the Transformers expects metrics to be returned as a dict, hence we transform the values."
      ],
      "metadata": {
        "id": "yQqTYw5v9vbN"
      }
    },
    {
      "cell_type": "code",
      "source": [
        "def corr(x,y):\n",
        "  return np.corrcoef(x,y)[0][1]\n",
        "\n",
        "\n",
        "def corr_d(eval_pred):\n",
        "  return {'pearson': corr(*eval_pred)}"
      ],
      "metadata": {
        "id": "O3AwV19t0TB1"
      },
      "execution_count": 83,
      "outputs": []
    },
    {
      "cell_type": "code",
      "source": [
        "from transformers import TrainingArguments,Trainer\n",
        "import numpy as np"
      ],
      "metadata": {
        "id": "JIo62yVonKiY"
      },
      "execution_count": 73,
      "outputs": []
    },
    {
      "cell_type": "code",
      "source": [
        "bs = 128\n",
        "epochs = 20\n",
        "lr = 8e-5\n",
        "\n",
        "args = TrainingArguments(\n",
        "    'outputs',\n",
        "    learning_rate=lr,\n",
        "    warmup_ratio=0.1,\n",
        "    lr_scheduler_type='cosine',\n",
        "    fp16=True,\n",
        "    evaluation_strategy=\"epoch\",\n",
        "    per_device_train_batch_size=bs,\n",
        "    per_device_eval_batch_size=bs*2,\n",
        "    num_train_epochs=epochs,\n",
        "    weight_decay=0.01,\n",
        "    logging_strategy='epoch',\n",
        "    report_to='none')"
      ],
      "metadata": {
        "id": "qHDPFmZHnRio"
      },
      "execution_count": 89,
      "outputs": []
    },
    {
      "cell_type": "code",
      "source": [
        "model = AutoModelForSequenceClassification.from_pretrained(model_nm, num_labels=1)\n",
        "trainer = Trainer(model,\n",
        "                  args,\n",
        "                  train_dataset=dds['train'],\n",
        "                  eval_dataset=dds['test'],\n",
        "                  tokenizer=tokz,\n",
        "                  compute_metrics=corr_d)"
      ],
      "metadata": {
        "id": "qq4ottxoudoA",
        "outputId": "b6b0af24-d10f-4675-e86d-dd836d6aa7c7",
        "colab": {
          "base_uri": "https://localhost:8080/"
        }
      },
      "execution_count": 90,
      "outputs": [
        {
          "output_type": "stream",
          "name": "stderr",
          "text": [
            "Some weights of the model checkpoint at microsoft/deberta-v3-small were not used when initializing DebertaV2ForSequenceClassification: ['lm_predictions.lm_head.dense.bias', 'lm_predictions.lm_head.LayerNorm.weight', 'mask_predictions.classifier.weight', 'lm_predictions.lm_head.LayerNorm.bias', 'mask_predictions.classifier.bias', 'mask_predictions.dense.bias', 'mask_predictions.dense.weight', 'lm_predictions.lm_head.bias', 'mask_predictions.LayerNorm.bias', 'mask_predictions.LayerNorm.weight', 'lm_predictions.lm_head.dense.weight']\n",
            "- This IS expected if you are initializing DebertaV2ForSequenceClassification from the checkpoint of a model trained on another task or with another architecture (e.g. initializing a BertForSequenceClassification model from a BertForPreTraining model).\n",
            "- This IS NOT expected if you are initializing DebertaV2ForSequenceClassification from the checkpoint of a model that you expect to be exactly identical (initializing a BertForSequenceClassification model from a BertForSequenceClassification model).\n",
            "Some weights of DebertaV2ForSequenceClassification were not initialized from the model checkpoint at microsoft/deberta-v3-small and are newly initialized: ['classifier.bias', 'pooler.dense.weight', 'pooler.dense.bias', 'classifier.weight']\n",
            "You should probably TRAIN this model on a down-stream task to be able to use it for predictions and inference.\n"
          ]
        }
      ]
    },
    {
      "cell_type": "code",
      "source": [
        "trainer.train();"
      ],
      "metadata": {
        "id": "F3Xjw5Y6ujc6",
        "outputId": "d58c76ec-02c8-4af2-b4e2-6e16e53c5f16",
        "colab": {
          "base_uri": "https://localhost:8080/",
          "height": 757
        }
      },
      "execution_count": 91,
      "outputs": [
        {
          "output_type": "stream",
          "name": "stderr",
          "text": [
            "/usr/local/lib/python3.10/dist-packages/transformers/optimization.py:411: FutureWarning: This implementation of AdamW is deprecated and will be removed in a future version. Use the PyTorch implementation torch.optim.AdamW instead, or set `no_deprecation_warning=True` to disable this warning\n",
            "  warnings.warn(\n"
          ]
        },
        {
          "output_type": "display_data",
          "data": {
            "text/plain": [
              "<IPython.core.display.HTML object>"
            ],
            "text/html": [
              "\n",
              "    <div>\n",
              "      \n",
              "      <progress value='4280' max='4280' style='width:300px; height:20px; vertical-align: middle;'></progress>\n",
              "      [4280/4280 18:24, Epoch 20/20]\n",
              "    </div>\n",
              "    <table border=\"1\" class=\"dataframe\">\n",
              "  <thead>\n",
              " <tr style=\"text-align: left;\">\n",
              "      <th>Epoch</th>\n",
              "      <th>Training Loss</th>\n",
              "      <th>Validation Loss</th>\n",
              "      <th>Pearson</th>\n",
              "    </tr>\n",
              "  </thead>\n",
              "  <tbody>\n",
              "    <tr>\n",
              "      <td>1</td>\n",
              "      <td>0.058700</td>\n",
              "      <td>0.031142</td>\n",
              "      <td>0.781549</td>\n",
              "    </tr>\n",
              "    <tr>\n",
              "      <td>2</td>\n",
              "      <td>0.027900</td>\n",
              "      <td>0.026599</td>\n",
              "      <td>0.809954</td>\n",
              "    </tr>\n",
              "    <tr>\n",
              "      <td>3</td>\n",
              "      <td>0.020000</td>\n",
              "      <td>0.026901</td>\n",
              "      <td>0.822486</td>\n",
              "    </tr>\n",
              "    <tr>\n",
              "      <td>4</td>\n",
              "      <td>0.014800</td>\n",
              "      <td>0.023087</td>\n",
              "      <td>0.831962</td>\n",
              "    </tr>\n",
              "    <tr>\n",
              "      <td>5</td>\n",
              "      <td>0.011400</td>\n",
              "      <td>0.022536</td>\n",
              "      <td>0.835387</td>\n",
              "    </tr>\n",
              "    <tr>\n",
              "      <td>6</td>\n",
              "      <td>0.009400</td>\n",
              "      <td>0.020475</td>\n",
              "      <td>0.840828</td>\n",
              "    </tr>\n",
              "    <tr>\n",
              "      <td>7</td>\n",
              "      <td>0.007900</td>\n",
              "      <td>0.020247</td>\n",
              "      <td>0.838808</td>\n",
              "    </tr>\n",
              "    <tr>\n",
              "      <td>8</td>\n",
              "      <td>0.006800</td>\n",
              "      <td>0.022088</td>\n",
              "      <td>0.838769</td>\n",
              "    </tr>\n",
              "    <tr>\n",
              "      <td>9</td>\n",
              "      <td>0.006000</td>\n",
              "      <td>0.021760</td>\n",
              "      <td>0.840798</td>\n",
              "    </tr>\n",
              "    <tr>\n",
              "      <td>10</td>\n",
              "      <td>0.005100</td>\n",
              "      <td>0.020800</td>\n",
              "      <td>0.842255</td>\n",
              "    </tr>\n",
              "    <tr>\n",
              "      <td>11</td>\n",
              "      <td>0.004400</td>\n",
              "      <td>0.021493</td>\n",
              "      <td>0.838517</td>\n",
              "    </tr>\n",
              "    <tr>\n",
              "      <td>12</td>\n",
              "      <td>0.003900</td>\n",
              "      <td>0.021727</td>\n",
              "      <td>0.837179</td>\n",
              "    </tr>\n",
              "    <tr>\n",
              "      <td>13</td>\n",
              "      <td>0.003600</td>\n",
              "      <td>0.020885</td>\n",
              "      <td>0.840120</td>\n",
              "    </tr>\n",
              "    <tr>\n",
              "      <td>14</td>\n",
              "      <td>0.003100</td>\n",
              "      <td>0.021449</td>\n",
              "      <td>0.838569</td>\n",
              "    </tr>\n",
              "    <tr>\n",
              "      <td>15</td>\n",
              "      <td>0.002800</td>\n",
              "      <td>0.020900</td>\n",
              "      <td>0.838891</td>\n",
              "    </tr>\n",
              "    <tr>\n",
              "      <td>16</td>\n",
              "      <td>0.002600</td>\n",
              "      <td>0.020940</td>\n",
              "      <td>0.840384</td>\n",
              "    </tr>\n",
              "    <tr>\n",
              "      <td>17</td>\n",
              "      <td>0.002400</td>\n",
              "      <td>0.021353</td>\n",
              "      <td>0.839024</td>\n",
              "    </tr>\n",
              "    <tr>\n",
              "      <td>18</td>\n",
              "      <td>0.002200</td>\n",
              "      <td>0.020831</td>\n",
              "      <td>0.840016</td>\n",
              "    </tr>\n",
              "    <tr>\n",
              "      <td>19</td>\n",
              "      <td>0.002300</td>\n",
              "      <td>0.020891</td>\n",
              "      <td>0.839652</td>\n",
              "    </tr>\n",
              "    <tr>\n",
              "      <td>20</td>\n",
              "      <td>0.002200</td>\n",
              "      <td>0.020983</td>\n",
              "      <td>0.839674</td>\n",
              "    </tr>\n",
              "  </tbody>\n",
              "</table><p>"
            ]
          },
          "metadata": {}
        }
      ]
    },
    {
      "cell_type": "code",
      "source": [
        "trainer.state.log_history"
      ],
      "metadata": {
        "id": "2urIYncV2KOT",
        "outputId": "0508a44d-558e-47e4-c6ec-6f19277cb33f",
        "colab": {
          "base_uri": "https://localhost:8080/"
        }
      },
      "execution_count": 92,
      "outputs": [
        {
          "output_type": "execute_result",
          "data": {
            "text/plain": [
              "[{'loss': 0.0587,\n",
              "  'learning_rate': 3.981308411214954e-05,\n",
              "  'epoch': 1.0,\n",
              "  'step': 214},\n",
              " {'eval_loss': 0.031142374500632286,\n",
              "  'eval_pearson': 0.7815493355736935,\n",
              "  'eval_runtime': 6.0431,\n",
              "  'eval_samples_per_second': 1508.983,\n",
              "  'eval_steps_per_second': 5.957,\n",
              "  'epoch': 1.0,\n",
              "  'step': 214},\n",
              " {'loss': 0.0279,\n",
              "  'learning_rate': 7.981308411214954e-05,\n",
              "  'epoch': 2.0,\n",
              "  'step': 428},\n",
              " {'eval_loss': 0.02659924328327179,\n",
              "  'eval_pearson': 0.8099537464805567,\n",
              "  'eval_runtime': 3.9564,\n",
              "  'eval_samples_per_second': 2304.871,\n",
              "  'eval_steps_per_second': 9.099,\n",
              "  'epoch': 2.0,\n",
              "  'step': 428},\n",
              " {'loss': 0.02,\n",
              "  'learning_rate': 7.939796193918374e-05,\n",
              "  'epoch': 3.0,\n",
              "  'step': 642},\n",
              " {'eval_loss': 0.026901204138994217,\n",
              "  'eval_pearson': 0.8224857205196572,\n",
              "  'eval_runtime': 3.1628,\n",
              "  'eval_samples_per_second': 2883.217,\n",
              "  'eval_steps_per_second': 11.382,\n",
              "  'epoch': 3.0,\n",
              "  'step': 642},\n",
              " {'loss': 0.0148,\n",
              "  'learning_rate': 7.759885004440793e-05,\n",
              "  'epoch': 4.0,\n",
              "  'step': 856},\n",
              " {'eval_loss': 0.023087332025170326,\n",
              "  'eval_pearson': 0.8319619010742366,\n",
              "  'eval_runtime': 3.0124,\n",
              "  'eval_samples_per_second': 3027.19,\n",
              "  'eval_steps_per_second': 11.951,\n",
              "  'epoch': 4.0,\n",
              "  'step': 856},\n",
              " {'loss': 0.0114,\n",
              "  'learning_rate': 7.465731611696892e-05,\n",
              "  'epoch': 5.0,\n",
              "  'step': 1070},\n",
              " {'eval_loss': 0.022536346688866615,\n",
              "  'eval_pearson': 0.8353873683385169,\n",
              "  'eval_runtime': 3.1059,\n",
              "  'eval_samples_per_second': 2935.991,\n",
              "  'eval_steps_per_second': 11.591,\n",
              "  'epoch': 5.0,\n",
              "  'step': 1070},\n",
              " {'loss': 0.0094,\n",
              "  'learning_rate': 7.066273717676396e-05,\n",
              "  'epoch': 6.0,\n",
              "  'step': 1284},\n",
              " {'eval_loss': 0.020474987104535103,\n",
              "  'eval_pearson': 0.840827579783052,\n",
              "  'eval_runtime': 3.0249,\n",
              "  'eval_samples_per_second': 3014.657,\n",
              "  'eval_steps_per_second': 11.901,\n",
              "  'epoch': 6.0,\n",
              "  'step': 1284},\n",
              " {'loss': 0.0079,\n",
              "  'learning_rate': 6.573648648353669e-05,\n",
              "  'epoch': 7.0,\n",
              "  'step': 1498},\n",
              " {'eval_loss': 0.02024664729833603,\n",
              "  'eval_pearson': 0.8388076984899148,\n",
              "  'eval_runtime': 3.3541,\n",
              "  'eval_samples_per_second': 2718.795,\n",
              "  'eval_steps_per_second': 10.733,\n",
              "  'epoch': 7.0,\n",
              "  'step': 1498},\n",
              " {'loss': 0.0068,\n",
              "  'learning_rate': 6.0028245671797726e-05,\n",
              "  'epoch': 8.0,\n",
              "  'step': 1712},\n",
              " {'eval_loss': 0.02208826132118702,\n",
              "  'eval_pearson': 0.8387692831129765,\n",
              "  'eval_runtime': 3.0734,\n",
              "  'eval_samples_per_second': 2967.079,\n",
              "  'eval_steps_per_second': 11.713,\n",
              "  'epoch': 8.0,\n",
              "  'step': 1712},\n",
              " {'loss': 0.006,\n",
              "  'learning_rate': 5.371145675010249e-05,\n",
              "  'epoch': 9.0,\n",
              "  'step': 1926},\n",
              " {'eval_loss': 0.021759502589702606,\n",
              "  'eval_pearson': 0.8407979310801966,\n",
              "  'eval_runtime': 3.0336,\n",
              "  'eval_samples_per_second': 3005.997,\n",
              "  'eval_steps_per_second': 11.867,\n",
              "  'epoch': 9.0,\n",
              "  'step': 1926},\n",
              " {'loss': 0.0051,\n",
              "  'learning_rate': 4.697805215338731e-05,\n",
              "  'epoch': 10.0,\n",
              "  'step': 2140},\n",
              " {'eval_loss': 0.02079981565475464,\n",
              "  'eval_pearson': 0.8422551505579307,\n",
              "  'eval_runtime': 3.1269,\n",
              "  'eval_samples_per_second': 2916.303,\n",
              "  'eval_steps_per_second': 11.513,\n",
              "  'epoch': 10.0,\n",
              "  'step': 2140},\n",
              " {'loss': 0.0044,\n",
              "  'learning_rate': 4.00326229730562e-05,\n",
              "  'epoch': 11.0,\n",
              "  'step': 2354},\n",
              " {'eval_loss': 0.021492712199687958,\n",
              "  'eval_pearson': 0.8385174019921608,\n",
              "  'eval_runtime': 3.0336,\n",
              "  'eval_samples_per_second': 3005.956,\n",
              "  'eval_steps_per_second': 11.867,\n",
              "  'epoch': 11.0,\n",
              "  'step': 2354},\n",
              " {'loss': 0.0039,\n",
              "  'learning_rate': 3.308620256019681e-05,\n",
              "  'epoch': 12.0,\n",
              "  'step': 2568},\n",
              " {'eval_loss': 0.021726947277784348,\n",
              "  'eval_pearson': 0.83717881630086,\n",
              "  'eval_runtime': 3.1075,\n",
              "  'eval_samples_per_second': 2934.514,\n",
              "  'eval_steps_per_second': 11.585,\n",
              "  'epoch': 12.0,\n",
              "  'step': 2568},\n",
              " {'loss': 0.0036,\n",
              "  'learning_rate': 2.6349854383995526e-05,\n",
              "  'epoch': 13.0,\n",
              "  'step': 2782},\n",
              " {'eval_loss': 0.020884830504655838,\n",
              "  'eval_pearson': 0.8401203385976628,\n",
              "  'eval_runtime': 3.0441,\n",
              "  'eval_samples_per_second': 2995.674,\n",
              "  'eval_steps_per_second': 11.826,\n",
              "  'epoch': 13.0,\n",
              "  'step': 2782},\n",
              " {'loss': 0.0031,\n",
              "  'learning_rate': 2.0028258975029574e-05,\n",
              "  'epoch': 14.0,\n",
              "  'step': 2996},\n",
              " {'eval_loss': 0.021449381485581398,\n",
              "  'eval_pearson': 0.8385691255228357,\n",
              "  'eval_runtime': 3.0737,\n",
              "  'eval_samples_per_second': 2966.762,\n",
              "  'eval_steps_per_second': 11.712,\n",
              "  'epoch': 14.0,\n",
              "  'step': 2996},\n",
              " {'loss': 0.0028,\n",
              "  'learning_rate': 1.4313494810918749e-05,\n",
              "  'epoch': 15.0,\n",
              "  'step': 3210},\n",
              " {'eval_loss': 0.02090013585984707,\n",
              "  'eval_pearson': 0.8388914369480867,\n",
              "  'eval_runtime': 3.0745,\n",
              "  'eval_samples_per_second': 2966.002,\n",
              "  'eval_steps_per_second': 11.709,\n",
              "  'epoch': 15.0,\n",
              "  'step': 3210},\n",
              " {'loss': 0.0026,\n",
              "  'learning_rate': 9.37920210897938e-06,\n",
              "  'epoch': 16.0,\n",
              "  'step': 3424},\n",
              " {'eval_loss': 0.02094021812081337,\n",
              "  'eval_pearson': 0.8403838833953778,\n",
              "  'eval_runtime': 3.0652,\n",
              "  'eval_samples_per_second': 2975.046,\n",
              "  'eval_steps_per_second': 11.745,\n",
              "  'epoch': 16.0,\n",
              "  'step': 3424},\n",
              " {'loss': 0.0024,\n",
              "  'learning_rate': 5.375306856087288e-06,\n",
              "  'epoch': 17.0,\n",
              "  'step': 3638},\n",
              " {'eval_loss': 0.021352509036660194,\n",
              "  'eval_pearson': 0.8390241227334229,\n",
              "  'eval_runtime': 3.1141,\n",
              "  'eval_samples_per_second': 2928.326,\n",
              "  'eval_steps_per_second': 11.56,\n",
              "  'epoch': 17.0,\n",
              "  'step': 3638},\n",
              " {'loss': 0.0022,\n",
              "  'learning_rate': 2.4234653834328593e-06,\n",
              "  'epoch': 18.0,\n",
              "  'step': 3852},\n",
              " {'eval_loss': 0.020831286907196045,\n",
              "  'eval_pearson': 0.8400161208092495,\n",
              "  'eval_runtime': 3.0472,\n",
              "  'eval_samples_per_second': 2992.597,\n",
              "  'eval_steps_per_second': 11.814,\n",
              "  'epoch': 18.0,\n",
              "  'step': 3852},\n",
              " {'loss': 0.0023,\n",
              "  'learning_rate': 6.133679004588322e-07,\n",
              "  'epoch': 19.0,\n",
              "  'step': 4066},\n",
              " {'eval_loss': 0.020890789106488228,\n",
              "  'eval_pearson': 0.8396522937662099,\n",
              "  'eval_runtime': 3.0862,\n",
              "  'eval_samples_per_second': 2954.765,\n",
              "  'eval_steps_per_second': 11.665,\n",
              "  'epoch': 19.0,\n",
              "  'step': 4066},\n",
              " {'loss': 0.0022,\n",
              "  'learning_rate': 1.3303231849448595e-11,\n",
              "  'epoch': 20.0,\n",
              "  'step': 4280},\n",
              " {'eval_loss': 0.020982760936021805,\n",
              "  'eval_pearson': 0.8396740895676086,\n",
              "  'eval_runtime': 3.1016,\n",
              "  'eval_samples_per_second': 2940.082,\n",
              "  'eval_steps_per_second': 11.607,\n",
              "  'epoch': 20.0,\n",
              "  'step': 4280},\n",
              " {'train_runtime': 1104.819,\n",
              "  'train_samples_per_second': 495.176,\n",
              "  'train_steps_per_second': 3.874,\n",
              "  'total_flos': 3583677370849680.0,\n",
              "  'train_loss': 0.009880353440748196,\n",
              "  'epoch': 20.0,\n",
              "  'step': 4280}]"
            ]
          },
          "metadata": {},
          "execution_count": 92
        }
      ]
    },
    {
      "cell_type": "code",
      "source": [
        "import matplotlib.pyplot as plt\n",
        "\n",
        "# Get eval_loss and eval_pearson values per epoch from log_history\n",
        "#eval_loss = []\n",
        "eval_pearson = []\n",
        "for log in trainer.state.log_history:\n",
        "    if 'eval_pearson' in log:\n",
        "        #eval_loss.append(log['eval_loss'])\n",
        "        eval_pearson.append(log['eval_pearson'])\n",
        "\n",
        "# Plotting the losses per epoch\n",
        "epochs = range(1, len(eval_pearson) + 1)\n",
        "\n",
        "plt.figure(figsize=(12, 5))\n",
        "#plt.plot(epochs, eval_loss, label='eval_loss')\n",
        "plt.plot(epochs, eval_pearson, label='eval_pearson')\n",
        "\n",
        "plt.title('Pearson Correlation per Epoch')\n",
        "plt.xlabel('Epoch')\n",
        "plt.ylabel('Pearson Correlation')\n",
        "plt.legend()\n",
        "plt.grid(True)\n",
        "\n",
        "plt.show()\n"
      ],
      "metadata": {
        "id": "svUtc5uWwh1q",
        "outputId": "2d36b2df-b639-4c9d-dc6e-934be09bd969",
        "colab": {
          "base_uri": "https://localhost:8080/",
          "height": 329
        }
      },
      "execution_count": 93,
      "outputs": [
        {
          "output_type": "display_data",
          "data": {
            "text/plain": [
              "<Figure size 1200x500 with 1 Axes>"
            ],
            "image/png": "[encoded data removed]"
          },
          "metadata": {}
        }
      ]
    },
    {
      "cell_type": "code",
      "source": [
        "bs = 128\n",
        "epochs = 15\n",
        "lr = 8e-4\n",
        "\n",
        "args = TrainingArguments(\n",
        "    'outputs',\n",
        "    learning_rate=lr,\n",
        "    warmup_ratio=0.1,\n",
        "    lr_scheduler_type='cosine',\n",
        "    fp16=True,\n",
        "    evaluation_strategy=\"epoch\",\n",
        "    per_device_train_batch_size=bs,\n",
        "    per_device_eval_batch_size=bs*2,\n",
        "    num_train_epochs=epochs,\n",
        "    weight_decay=0.01,\n",
        "    logging_strategy='epoch',\n",
        "    report_to='none')\n",
        "\n",
        "model = AutoModelForSequenceClassification.from_pretrained(model_nm, num_labels=1)\n",
        "trainer = Trainer(model,\n",
        "                  args,\n",
        "                  train_dataset=dds['train'],\n",
        "                  eval_dataset=dds['test'],\n",
        "                  tokenizer=tokz,\n",
        "                  compute_metrics=corr_d)\n",
        "\n",
        "trainer.train();"
      ],
      "metadata": {
        "id": "P840QACH3cn-",
        "outputId": "f5ade7ee-478f-4144-97a8-2a2d504f445c",
        "colab": {
          "base_uri": "https://localhost:8080/",
          "height": 1000
        }
      },
      "execution_count": 95,
      "outputs": [
        {
          "output_type": "stream",
          "name": "stderr",
          "text": [
            "Some weights of the model checkpoint at microsoft/deberta-v3-small were not used when initializing DebertaV2ForSequenceClassification: ['lm_predictions.lm_head.dense.bias', 'lm_predictions.lm_head.LayerNorm.weight', 'mask_predictions.classifier.weight', 'lm_predictions.lm_head.LayerNorm.bias', 'mask_predictions.classifier.bias', 'mask_predictions.dense.bias', 'mask_predictions.dense.weight', 'lm_predictions.lm_head.bias', 'mask_predictions.LayerNorm.bias', 'mask_predictions.LayerNorm.weight', 'lm_predictions.lm_head.dense.weight']\n",
            "- This IS expected if you are initializing DebertaV2ForSequenceClassification from the checkpoint of a model trained on another task or with another architecture (e.g. initializing a BertForSequenceClassification model from a BertForPreTraining model).\n",
            "- This IS NOT expected if you are initializing DebertaV2ForSequenceClassification from the checkpoint of a model that you expect to be exactly identical (initializing a BertForSequenceClassification model from a BertForSequenceClassification model).\n",
            "Some weights of DebertaV2ForSequenceClassification were not initialized from the model checkpoint at microsoft/deberta-v3-small and are newly initialized: ['classifier.bias', 'pooler.dense.weight', 'pooler.dense.bias', 'classifier.weight']\n",
            "You should probably TRAIN this model on a down-stream task to be able to use it for predictions and inference.\n"
          ]
        },
        {
          "output_type": "display_data",
          "data": {
            "text/plain": [
              "<IPython.core.display.HTML object>"
            ],
            "text/html": [
              "\n",
              "    <div>\n",
              "      \n",
              "      <progress value='3210' max='3210' style='width:300px; height:20px; vertical-align: middle;'></progress>\n",
              "      [3210/3210 13:14, Epoch 15/15]\n",
              "    </div>\n",
              "    <table border=\"1\" class=\"dataframe\">\n",
              "  <thead>\n",
              " <tr style=\"text-align: left;\">\n",
              "      <th>Epoch</th>\n",
              "      <th>Training Loss</th>\n",
              "      <th>Validation Loss</th>\n",
              "      <th>Pearson</th>\n",
              "    </tr>\n",
              "  </thead>\n",
              "  <tbody>\n",
              "    <tr>\n",
              "      <td>1</td>\n",
              "      <td>0.054700</td>\n",
              "      <td>0.034271</td>\n",
              "      <td>0.737029</td>\n",
              "    </tr>\n",
              "    <tr>\n",
              "      <td>2</td>\n",
              "      <td>0.042400</td>\n",
              "      <td>0.056917</td>\n",
              "      <td>0.500121</td>\n",
              "    </tr>\n",
              "    <tr>\n",
              "      <td>3</td>\n",
              "      <td>0.059800</td>\n",
              "      <td>0.065539</td>\n",
              "      <td>0.029740</td>\n",
              "    </tr>\n",
              "    <tr>\n",
              "      <td>4</td>\n",
              "      <td>0.068100</td>\n",
              "      <td>0.065535</td>\n",
              "      <td>nan</td>\n",
              "    </tr>\n",
              "    <tr>\n",
              "      <td>5</td>\n",
              "      <td>0.067800</td>\n",
              "      <td>0.067463</td>\n",
              "      <td>nan</td>\n",
              "    </tr>\n",
              "    <tr>\n",
              "      <td>6</td>\n",
              "      <td>0.067800</td>\n",
              "      <td>0.065711</td>\n",
              "      <td>nan</td>\n",
              "    </tr>\n",
              "    <tr>\n",
              "      <td>7</td>\n",
              "      <td>0.067700</td>\n",
              "      <td>0.065532</td>\n",
              "      <td>nan</td>\n",
              "    </tr>\n",
              "    <tr>\n",
              "      <td>8</td>\n",
              "      <td>0.067600</td>\n",
              "      <td>0.065569</td>\n",
              "      <td>nan</td>\n",
              "    </tr>\n",
              "    <tr>\n",
              "      <td>9</td>\n",
              "      <td>0.067500</td>\n",
              "      <td>0.065544</td>\n",
              "      <td>nan</td>\n",
              "    </tr>\n",
              "    <tr>\n",
              "      <td>10</td>\n",
              "      <td>0.067400</td>\n",
              "      <td>0.065573</td>\n",
              "      <td>nan</td>\n",
              "    </tr>\n",
              "    <tr>\n",
              "      <td>11</td>\n",
              "      <td>0.067500</td>\n",
              "      <td>0.065573</td>\n",
              "      <td>nan</td>\n",
              "    </tr>\n",
              "    <tr>\n",
              "      <td>12</td>\n",
              "      <td>0.067300</td>\n",
              "      <td>0.065609</td>\n",
              "      <td>nan</td>\n",
              "    </tr>\n",
              "    <tr>\n",
              "      <td>13</td>\n",
              "      <td>0.067200</td>\n",
              "      <td>0.065634</td>\n",
              "      <td>0.014818</td>\n",
              "    </tr>\n",
              "    <tr>\n",
              "      <td>14</td>\n",
              "      <td>0.067300</td>\n",
              "      <td>0.065529</td>\n",
              "      <td>nan</td>\n",
              "    </tr>\n",
              "    <tr>\n",
              "      <td>15</td>\n",
              "      <td>0.067300</td>\n",
              "      <td>0.065529</td>\n",
              "      <td>nan</td>\n",
              "    </tr>\n",
              "  </tbody>\n",
              "</table><p>"
            ]
          },
          "metadata": {}
        },
        {
          "output_type": "stream",
          "name": "stderr",
          "text": [
            "/usr/local/lib/python3.10/dist-packages/numpy/lib/function_base.py:2829: RuntimeWarning: invalid value encountered in true_divide\n",
            "  c /= stddev[:, None]\n",
            "/usr/local/lib/python3.10/dist-packages/numpy/lib/function_base.py:2830: RuntimeWarning: invalid value encountered in true_divide\n",
            "  c /= stddev[None, :]\n",
            "/usr/local/lib/python3.10/dist-packages/numpy/lib/function_base.py:2829: RuntimeWarning: invalid value encountered in true_divide\n",
            "  c /= stddev[:, None]\n",
            "/usr/local/lib/python3.10/dist-packages/numpy/lib/function_base.py:2830: RuntimeWarning: invalid value encountered in true_divide\n",
            "  c /= stddev[None, :]\n",
            "/usr/local/lib/python3.10/dist-packages/numpy/lib/function_base.py:2829: RuntimeWarning: invalid value encountered in true_divide\n",
            "  c /= stddev[:, None]\n",
            "/usr/local/lib/python3.10/dist-packages/numpy/lib/function_base.py:2830: RuntimeWarning: invalid value encountered in true_divide\n",
            "  c /= stddev[None, :]\n",
            "/usr/local/lib/python3.10/dist-packages/numpy/lib/function_base.py:2829: RuntimeWarning: invalid value encountered in true_divide\n",
            "  c /= stddev[:, None]\n",
            "/usr/local/lib/python3.10/dist-packages/numpy/lib/function_base.py:2830: RuntimeWarning: invalid value encountered in true_divide\n",
            "  c /= stddev[None, :]\n",
            "/usr/local/lib/python3.10/dist-packages/numpy/lib/function_base.py:2829: RuntimeWarning: invalid value encountered in true_divide\n",
            "  c /= stddev[:, None]\n",
            "/usr/local/lib/python3.10/dist-packages/numpy/lib/function_base.py:2830: RuntimeWarning: invalid value encountered in true_divide\n",
            "  c /= stddev[None, :]\n",
            "/usr/local/lib/python3.10/dist-packages/numpy/lib/function_base.py:2829: RuntimeWarning: invalid value encountered in true_divide\n",
            "  c /= stddev[:, None]\n",
            "/usr/local/lib/python3.10/dist-packages/numpy/lib/function_base.py:2830: RuntimeWarning: invalid value encountered in true_divide\n",
            "  c /= stddev[None, :]\n"
          ]
        }
      ]
    },
    {
      "cell_type": "code",
      "source": [
        "# Get eval_loss and eval_pearson values per epoch from log_history\n",
        "#eval_loss = []\n",
        "eval_pearson = []\n",
        "for log in trainer.state.log_history:\n",
        "    if 'eval_pearson' in log:\n",
        "        #eval_loss.append(log['eval_loss'])\n",
        "        eval_pearson.append(log['eval_pearson'])\n",
        "\n",
        "# Plotting the losses per epoch\n",
        "epochs = range(1, len(eval_pearson) + 1)\n",
        "\n",
        "plt.figure(figsize=(12, 5))\n",
        "#plt.plot(epochs, eval_loss, label='eval_loss')\n",
        "plt.plot(epochs, eval_pearson, label='eval_pearson')\n",
        "\n",
        "plt.title('Pearson Correlation per Epoch')\n",
        "plt.xlabel('Epoch')\n",
        "plt.ylabel('Pearson Correlation')\n",
        "plt.legend()\n",
        "plt.grid(True)\n",
        "\n",
        "plt.show()"
      ],
      "metadata": {
        "id": "GsGz5OHHAT6G"
      },
      "execution_count": null,
      "outputs": []
    },
    {
      "cell_type": "code",
      "source": [],
      "metadata": {
        "id": "w8pbpPqVALtV"
      },
      "execution_count": 91,
      "outputs": []
    },
    {
      "cell_type": "code",
      "source": [
        "bs = 128\n",
        "epochs = 20\n",
        "lr = 8e-3\n",
        "\n",
        "args = TrainingArguments(\n",
        "    'outputs',\n",
        "    learning_rate=lr,\n",
        "    warmup_ratio=0.1,\n",
        "    lr_scheduler_type='cosine',\n",
        "    fp16=True,\n",
        "    evaluation_strategy=\"epoch\",\n",
        "    per_device_train_batch_size=bs,\n",
        "    per_device_eval_batch_size=bs*2,\n",
        "    num_train_epochs=epochs,\n",
        "    weight_decay=0.01,\n",
        "    logging_strategy='epoch',\n",
        "    report_to='none')\n",
        "\n",
        "model = AutoModelForSequenceClassification.from_pretrained(model_nm, num_labels=1)\n",
        "trainer = Trainer(model,\n",
        "                  args,\n",
        "                  train_dataset=dds['train'],\n",
        "                  eval_dataset=dds['test'],\n",
        "                  tokenizer=tokz,\n",
        "                  compute_metrics=corr_d)\n",
        "\n",
        "trainer.train();"
      ],
      "metadata": {
        "id": "GQSbVRizAOqt"
      },
      "execution_count": null,
      "outputs": []
    },
    {
      "cell_type": "code",
      "source": [
        "# Get eval_loss and eval_pearson values per epoch from log_history\n",
        "#eval_loss = []\n",
        "eval_pearson = []\n",
        "for log in trainer.state.log_history:\n",
        "    if 'eval_pearson' in log:\n",
        "        #eval_loss.append(log['eval_loss'])\n",
        "        eval_pearson.append(log['eval_pearson'])\n",
        "\n",
        "# Plotting the losses per epoch\n",
        "epochs = range(1, len(eval_pearson) + 1)\n",
        "\n",
        "plt.figure(figsize=(12, 5))\n",
        "#plt.plot(epochs, eval_loss, label='eval_loss')\n",
        "plt.plot(epochs, eval_pearson, label='eval_pearson')\n",
        "\n",
        "plt.title('Pearson Correlation per Epoch')\n",
        "plt.xlabel('Epoch')\n",
        "plt.ylabel('Pearson Correlation')\n",
        "plt.legend()\n",
        "plt.grid(True)\n",
        "\n",
        "plt.show()"
      ],
      "metadata": {
        "id": "EjJs0RfdAc7i"
      },
      "execution_count": null,
      "outputs": []
    },
    {
      "cell_type": "code",
      "source": [],
      "metadata": {
        "id": "8IxAr2RYAeHB"
      },
      "execution_count": null,
      "outputs": []
    }
  ],
  "metadata": {
    "kernelspec": {
      "display_name": "Python 3",
      "name": "python3"
    },
    "language_info": {
      "codemirror_mode": {
        "name": "ipython",
        "version": 3
      },
      "file_extension": ".py",
      "mimetype": "text/x-python",
      "name": "python",
      "nbconvert_exporter": "python",
      "pygments_lexer": "ipython3",
      "version": "3.11.0"
    },
    "orig_nbformat": 4,
    "colab": {
      "provenance": [],
      "gpuType": "T4",
      "include_colab_link": true
    },
    "accelerator": "GPU",
    "widgets": {
      "application/vnd.jupyter.widget-state+json": {
        "6b3d7c69d44341a4b07a19ae299ef995": {
          "model_module": "@jupyter-widgets/controls",
          "model_name": "HBoxModel",
          "model_module_version": "1.5.0",
          "state": {
            "_dom_classes": [],
            "_model_module": "@jupyter-widgets/controls",
            "_model_module_version": "1.5.0",
            "_model_name": "HBoxModel",
            "_view_count": null,
            "_view_module": "@jupyter-widgets/controls",
            "_view_module_version": "1.5.0",
            "_view_name": "HBoxView",
            "box_style": "",
            "children": [
              "IPY_MODEL_747f927fa2244dc38e4fe383d9f37e1e",
              "IPY_MODEL_2572c32b6bdc45098a7cb037ba22bc4a",
              "IPY_MODEL_c0a9ec5d89d6442382e1ebe8e9f2bc6f"
            ],
            "layout": "IPY_MODEL_4ac1213b1472445a876d2bf219d5e17e"
          }
        },
        "747f927fa2244dc38e4fe383d9f37e1e": {
          "model_module": "@jupyter-widgets/controls",
          "model_name": "HTMLModel",
          "model_module_version": "1.5.0",
          "state": {
            "_dom_classes": [],
            "_model_module": "@jupyter-widgets/controls",
            "_model_module_version": "1.5.0",
            "_model_name": "HTMLModel",
            "_view_count": null,
            "_view_module": "@jupyter-widgets/controls",
            "_view_module_version": "1.5.0",
            "_view_name": "HTMLView",
            "description": "",
            "description_tooltip": null,
            "layout": "IPY_MODEL_b419679290884a2a8ea6da051a5500ef",
            "placeholder": "​",
            "style": "IPY_MODEL_d5e9d9546bbd433b9bc6697c172db1d6",
            "value": "Map: 100%"
          }
        },
        "2572c32b6bdc45098a7cb037ba22bc4a": {
          "model_module": "@jupyter-widgets/controls",
          "model_name": "FloatProgressModel",
          "model_module_version": "1.5.0",
          "state": {
            "_dom_classes": [],
            "_model_module": "@jupyter-widgets/controls",
            "_model_module_version": "1.5.0",
            "_model_name": "FloatProgressModel",
            "_view_count": null,
            "_view_module": "@jupyter-widgets/controls",
            "_view_module_version": "1.5.0",
            "_view_name": "ProgressView",
            "bar_style": "",
            "description": "",
            "description_tooltip": null,
            "layout": "IPY_MODEL_b19ced07254347eaacb48ab00832ba13",
            "max": 36473,
            "min": 0,
            "orientation": "horizontal",
            "style": "IPY_MODEL_b8a199153ea5452286ceb3d99811be5e",
            "value": 36473
          }
        },
        "c0a9ec5d89d6442382e1ebe8e9f2bc6f": {
          "model_module": "@jupyter-widgets/controls",
          "model_name": "HTMLModel",
          "model_module_version": "1.5.0",
          "state": {
            "_dom_classes": [],
            "_model_module": "@jupyter-widgets/controls",
            "_model_module_version": "1.5.0",
            "_model_name": "HTMLModel",
            "_view_count": null,
            "_view_module": "@jupyter-widgets/controls",
            "_view_module_version": "1.5.0",
            "_view_name": "HTMLView",
            "description": "",
            "description_tooltip": null,
            "layout": "IPY_MODEL_ca4359501d13467c88eb62d0228a1b49",
            "placeholder": "​",
            "style": "IPY_MODEL_0e2f29e87f754c689418b0496924c23d",
            "value": " 36473/36473 [00:02&lt;00:00, 18811.31 examples/s]"
          }
        },
        "4ac1213b1472445a876d2bf219d5e17e": {
          "model_module": "@jupyter-widgets/base",
          "model_name": "LayoutModel",
          "model_module_version": "1.2.0",
          "state": {
            "_model_module": "@jupyter-widgets/base",
            "_model_module_version": "1.2.0",
            "_model_name": "LayoutModel",
            "_view_count": null,
            "_view_module": "@jupyter-widgets/base",
            "_view_module_version": "1.2.0",
            "_view_name": "LayoutView",
            "align_content": null,
            "align_items": null,
            "align_self": null,
            "border": null,
            "bottom": null,
            "display": null,
            "flex": null,
            "flex_flow": null,
            "grid_area": null,
            "grid_auto_columns": null,
            "grid_auto_flow": null,
            "grid_auto_rows": null,
            "grid_column": null,
            "grid_gap": null,
            "grid_row": null,
            "grid_template_areas": null,
            "grid_template_columns": null,
            "grid_template_rows": null,
            "height": null,
            "justify_content": null,
            "justify_items": null,
            "left": null,
            "margin": null,
            "max_height": null,
            "max_width": null,
            "min_height": null,
            "min_width": null,
            "object_fit": null,
            "object_position": null,
            "order": null,
            "overflow": null,
            "overflow_x": null,
            "overflow_y": null,
            "padding": null,
            "right": null,
            "top": null,
            "visibility": "hidden",
            "width": null
          }
        },
        "b419679290884a2a8ea6da051a5500ef": {
          "model_module": "@jupyter-widgets/base",
          "model_name": "LayoutModel",
          "model_module_version": "1.2.0",
          "state": {
            "_model_module": "@jupyter-widgets/base",
            "_model_module_version": "1.2.0",
            "_model_name": "LayoutModel",
            "_view_count": null,
            "_view_module": "@jupyter-widgets/base",
            "_view_module_version": "1.2.0",
            "_view_name": "LayoutView",
            "align_content": null,
            "align_items": null,
            "align_self": null,
            "border": null,
            "bottom": null,
            "display": null,
            "flex": null,
            "flex_flow": null,
            "grid_area": null,
            "grid_auto_columns": null,
            "grid_auto_flow": null,
            "grid_auto_rows": null,
            "grid_column": null,
            "grid_gap": null,
            "grid_row": null,
            "grid_template_areas": null,
            "grid_template_columns": null,
            "grid_template_rows": null,
            "height": null,
            "justify_content": null,
            "justify_items": null,
            "left": null,
            "margin": null,
            "max_height": null,
            "max_width": null,
            "min_height": null,
            "min_width": null,
            "object_fit": null,
            "object_position": null,
            "order": null,
            "overflow": null,
            "overflow_x": null,
            "overflow_y": null,
            "padding": null,
            "right": null,
            "top": null,
            "visibility": null,
            "width": null
          }
        },
        "d5e9d9546bbd433b9bc6697c172db1d6": {
          "model_module": "@jupyter-widgets/controls",
          "model_name": "DescriptionStyleModel",
          "model_module_version": "1.5.0",
          "state": {
            "_model_module": "@jupyter-widgets/controls",
            "_model_module_version": "1.5.0",
            "_model_name": "DescriptionStyleModel",
            "_view_count": null,
            "_view_module": "@jupyter-widgets/base",
            "_view_module_version": "1.2.0",
            "_view_name": "StyleView",
            "description_width": ""
          }
        },
        "b19ced07254347eaacb48ab00832ba13": {
          "model_module": "@jupyter-widgets/base",
          "model_name": "LayoutModel",
          "model_module_version": "1.2.0",
          "state": {
            "_model_module": "@jupyter-widgets/base",
            "_model_module_version": "1.2.0",
            "_model_name": "LayoutModel",
            "_view_count": null,
            "_view_module": "@jupyter-widgets/base",
            "_view_module_version": "1.2.0",
            "_view_name": "LayoutView",
            "align_content": null,
            "align_items": null,
            "align_self": null,
            "border": null,
            "bottom": null,
            "display": null,
            "flex": null,
            "flex_flow": null,
            "grid_area": null,
            "grid_auto_columns": null,
            "grid_auto_flow": null,
            "grid_auto_rows": null,
            "grid_column": null,
            "grid_gap": null,
            "grid_row": null,
            "grid_template_areas": null,
            "grid_template_columns": null,
            "grid_template_rows": null,
            "height": null,
            "justify_content": null,
            "justify_items": null,
            "left": null,
            "margin": null,
            "max_height": null,
            "max_width": null,
            "min_height": null,
            "min_width": null,
            "object_fit": null,
            "object_position": null,
            "order": null,
            "overflow": null,
            "overflow_x": null,
            "overflow_y": null,
            "padding": null,
            "right": null,
            "top": null,
            "visibility": null,
            "width": null
          }
        },
        "b8a199153ea5452286ceb3d99811be5e": {
          "model_module": "@jupyter-widgets/controls",
          "model_name": "ProgressStyleModel",
          "model_module_version": "1.5.0",
          "state": {
            "_model_module": "@jupyter-widgets/controls",
            "_model_module_version": "1.5.0",
            "_model_name": "ProgressStyleModel",
            "_view_count": null,
            "_view_module": "@jupyter-widgets/base",
            "_view_module_version": "1.2.0",
            "_view_name": "StyleView",
            "bar_color": null,
            "description_width": ""
          }
        },
        "ca4359501d13467c88eb62d0228a1b49": {
          "model_module": "@jupyter-widgets/base",
          "model_name": "LayoutModel",
          "model_module_version": "1.2.0",
          "state": {
            "_model_module": "@jupyter-widgets/base",
            "_model_module_version": "1.2.0",
            "_model_name": "LayoutModel",
            "_view_count": null,
            "_view_module": "@jupyter-widgets/base",
            "_view_module_version": "1.2.0",
            "_view_name": "LayoutView",
            "align_content": null,
            "align_items": null,
            "align_self": null,
            "border": null,
            "bottom": null,
            "display": null,
            "flex": null,
            "flex_flow": null,
            "grid_area": null,
            "grid_auto_columns": null,
            "grid_auto_flow": null,
            "grid_auto_rows": null,
            "grid_column": null,
            "grid_gap": null,
            "grid_row": null,
            "grid_template_areas": null,
            "grid_template_columns": null,
            "grid_template_rows": null,
            "height": null,
            "justify_content": null,
            "justify_items": null,
            "left": null,
            "margin": null,
            "max_height": null,
            "max_width": null,
            "min_height": null,
            "min_width": null,
            "object_fit": null,
            "object_position": null,
            "order": null,
            "overflow": null,
            "overflow_x": null,
            "overflow_y": null,
            "padding": null,
            "right": null,
            "top": null,
            "visibility": null,
            "width": null
          }
        },
        "0e2f29e87f754c689418b0496924c23d": {
          "model_module": "@jupyter-widgets/controls",
          "model_name": "DescriptionStyleModel",
          "model_module_version": "1.5.0",
          "state": {
            "_model_module": "@jupyter-widgets/controls",
            "_model_module_version": "1.5.0",
            "_model_name": "DescriptionStyleModel",
            "_view_count": null,
            "_view_module": "@jupyter-widgets/base",
            "_view_module_version": "1.2.0",
            "_view_name": "StyleView",
            "description_width": ""
          }
        }
      }
    }
  },
  "nbformat": 4,
  "nbformat_minor": 0
}