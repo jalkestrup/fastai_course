{
 "cells": [
  {
   "cell_type": "markdown",
   "metadata": {},
   "source": [
    "# Disease"
   ]
  },
  {
   "cell_type": "code",
   "execution_count": 5,
   "metadata": {},
   "outputs": [
    {
     "name": "stdout",
     "output_type": "stream",
     "text": [
      "Running in local environment...\n",
      "Sucesfully set kaggle credentials\n",
      "Data folder exists\n"
     ]
    }
   ],
   "source": [
    "#Helper functions for setting up the environment and downloading the dataset based on compute environment\n",
    "from setup_utils import check_environment, install_libraries, download_kaggle_data, set_kaggle_credentials\n",
    "\n",
    "colab_flag = check_environment()\n",
    "install_libraries(colab_flag)\n",
    "\n",
    "set_kaggle_credentials(colab_flag)\n",
    "\n",
    "kaggle_dataset = 'plant-pathology-2020-fgvc7'\n",
    "download_kaggle_data(kaggle_dataset)"
   ]
  }
 ],
 "metadata": {
  "kernelspec": {
   "display_name": "fastai",
   "language": "python",
   "name": "python3"
  },
  "language_info": {
   "codemirror_mode": {
    "name": "ipython",
    "version": 3
   },
   "file_extension": ".py",
   "mimetype": "text/x-python",
   "name": "python",
   "nbconvert_exporter": "python",
   "pygments_lexer": "ipython3",
   "version": "3.11.0"
  },
  "orig_nbformat": 4
 },
 "nbformat": 4,
 "nbformat_minor": 2
}
