{
  "cells": [
    {
      "cell_type": "markdown",
      "metadata": {
        "id": "o4fkELTze6gT"
      },
      "source": [
        "# Plant pathology 2020"
      ]
    },
    {
      "cell_type": "code",
      "source": [
        "import os\n",
        "\n",
        "def check_environment() -> bool:\n",
        "    \"\"\"Check if the notebook is running in Google Colab or not.\n",
        "\n",
        "    Returns:\n",
        "        bool: True if running in Colab, False otherwise.\n",
        "    \"\"\"\n",
        "    return bool(os.getenv(\"COLAB_RELEASE_TAG\"))\n",
        "\n",
        "def download_utils(colab_flag):\n",
        "  \"\"\"Function to clone the required utils .py helper module if running in colab\n",
        "\n",
        "  Returns:\n",
        "    None\n",
        "  \"\"\"\n",
        "  if colab_flag:\n",
        "    !curl -o /content/setup_utils.py https://raw.githubusercontent.com/jalkestrup/fastai_course/main/10_final_project/setup_utils.py\n",
        "  else:\n",
        "    return\n"
      ],
      "metadata": {
        "id": "-1eNwsathJEO"
      },
      "execution_count": 2,
      "outputs": []
    },
    {
      "cell_type": "code",
      "source": [
        "colab_flag = check_environment()\n",
        "download_utils(colab_flag)"
      ],
      "metadata": {
        "colab": {
          "base_uri": "https://localhost:8080/"
        },
        "id": "kGPk6NsIiirp",
        "outputId": "d6e25e3e-1c51-4058-99d3-98d57773c1d0"
      },
      "execution_count": 6,
      "outputs": [
        {
          "output_type": "stream",
          "name": "stdout",
          "text": [
            "  % Total    % Received % Xferd  Average Speed   Time    Time     Time  Current\n",
            "                                 Dload  Upload   Total   Spent    Left  Speed\n",
            "\r  0     0    0     0    0     0      0      0 --:--:-- --:--:-- --:--:--     0\r100  3017  100  3017    0     0  29047      0 --:--:-- --:--:-- --:--:-- 29291\n"
          ]
        }
      ]
    },
    {
      "cell_type": "code",
      "source": [
        "def set_kaggle_credentials(colab_flag: bool):\n",
        "    \"\"\"Set Kaggle API credentials.\n",
        "\n",
        "    Args:\n",
        "        colab_flag (bool): Indicates if the notebook is running in Google Colab.\n",
        "\n",
        "    Returns:\n",
        "        creds if successful, None otherwise.\n",
        "    \"\"\"\n",
        "\n",
        "    if colab_flag:\n",
        "        from google.colab import drive\n",
        "\n",
        "        drive.mount(\"/content/drive/\")\n",
        "        file_path = \"/content/drive/MyDrive/dtu/fastAI/kaggle_api.json\"\n",
        "    else:\n",
        "        file_path = \"../secrets/kaggle_api.json\"\n",
        "\n",
        "    if os.path.exists(file_path):\n",
        "        with open(file_path) as f:\n",
        "            creds = json.load(f)\n",
        "            print(creds)\n",
        "        # Write credentials to Kaggle folder\n",
        "        cred_path = Path(\"~/.kaggle/kaggle.json\").expanduser()\n",
        "        cred_path.parent.mkdir(parents=True, exist_ok=True)\n",
        "        with open(cred_path, \"w\") as f:\n",
        "            json.dump(creds, f)\n",
        "        cred_path.chmod(0o600)\n",
        "        print(cred_path.exists())\n",
        "        print(\"Sucesfully set kaggle credentials\")\n",
        "    else:\n",
        "        print(\"Error: File not found, Credentials NOT set\")"
      ],
      "metadata": {
        "id": "-KK9woAI-CVF"
      },
      "execution_count": 19,
      "outputs": []
    },
    {
      "cell_type": "code",
      "source": [
        "set_kaggle_credentials(colab_flag)"
      ],
      "metadata": {
        "id": "1ILZW-A5_pWp",
        "outputId": "50d77303-16ef-40ba-905d-ced292a037f9",
        "colab": {
          "base_uri": "https://localhost:8080/"
        }
      },
      "execution_count": 20,
      "outputs": [
        {
          "output_type": "stream",
          "name": "stdout",
          "text": [
            "Mounted at /content/drive/\n",
            "{'username': 'jepalk', 'key': '52785a5d4b50580ceb25a8aa5c7b43bc'}\n",
            "True\n",
            "True\n",
            "Sucesfully set kaggle credentials\n"
          ]
        }
      ]
    },
    {
      "cell_type": "code",
      "source": [
        "!ls /.kaggle/"
      ],
      "metadata": {
        "id": "g9WDNc7B_5rN",
        "outputId": "c5d1332b-3245-4d4c-8587-a015bbb1df95",
        "colab": {
          "base_uri": "https://localhost:8080/"
        }
      },
      "execution_count": 23,
      "outputs": [
        {
          "output_type": "stream",
          "name": "stdout",
          "text": [
            "ls: cannot access '/.kaggle/': No such file or directory\n"
          ]
        }
      ]
    },
    {
      "cell_type": "code",
      "source": [
        "def download_kaggle_data(dataset_name: str):\n",
        "    \"\"\"Download dataset from Kaggle.\n",
        "\n",
        "    Args:\n",
        "        dataset_name (str): The Kaggle dataset name (usually a path-like string).\n",
        "\n",
        "    Returns:\n",
        "        None\n",
        "    \"\"\"\n",
        "    path = Path(dataset_name)\n",
        "    if path.exists():\n",
        "        print(\"Data folder already exists\")\n",
        "    else:\n",
        "        print(\"Data not detected, starting download\")\n",
        "\n",
        "        cred_path = Path(\"~/.kaggle/kaggle.json\").expanduser()\n",
        "\n",
        "        if not cred_path.exists():\n",
        "            print(\n",
        "                \"Error: Kaggle credentials not set. Please set them before downloading data.\"\n",
        "            )\n",
        "            return\n",
        "\n",
        "        import kaggle\n",
        "\n",
        "        kaggle.api.competition_download_cli(dataset_name)\n",
        "        zipfile.ZipFile(f\"{dataset_name}.zip\").extractall(path)"
      ],
      "metadata": {
        "id": "7tN1OEQJ-E2g"
      },
      "execution_count": 21,
      "outputs": []
    },
    {
      "cell_type": "code",
      "source": [
        "kaggle_dataset = 'plant-pathology-2020-fgvc7'\n",
        "download_kaggle_data(kaggle_dataset)"
      ],
      "metadata": {
        "id": "ryzvvM7U-DTV",
        "outputId": "8bda0662-1ac9-4d81-e3fb-9bca28eff8c6",
        "colab": {
          "base_uri": "https://localhost:8080/"
        }
      },
      "execution_count": 22,
      "outputs": [
        {
          "output_type": "stream",
          "name": "stdout",
          "text": [
            "Data not detected, starting download\n",
            "Downloading plant-pathology-2020-fgvc7.zip to /content\n"
          ]
        },
        {
          "output_type": "stream",
          "name": "stderr",
          "text": [
            "100%|██████████| 779M/779M [00:08<00:00, 97.3MB/s]\n"
          ]
        },
        {
          "output_type": "stream",
          "name": "stdout",
          "text": [
            "\n"
          ]
        }
      ]
    },
    {
      "cell_type": "code",
      "execution_count": null,
      "metadata": {
        "colab": {
          "base_uri": "https://localhost:8080/"
        },
        "id": "vbHd5OX8e6gV",
        "outputId": "160e840b-1271-4b04-9ce0-352b55fd2988"
      },
      "outputs": [
        {
          "output_type": "stream",
          "name": "stdout",
          "text": [
            "Running in Colab...\n",
            "...Installed required dependencies\n",
            "Drive already mounted at /content/drive/; to attempt to forcibly remount, call drive.mount(\"/content/drive/\", force_remount=True).\n",
            "Sucesfully set kaggle credentials\n",
            "Data not detected, starting download\n",
            "Error: Kaggle credentials not set. Please set them before downloading data.\n"
          ]
        }
      ],
      "source": [
        "#Helper functions for setting up the environment and downloading the dataset based on compute environment\n",
        "from setup_utils import install_libraries, download_kaggle_data, set_kaggle_credentials\n",
        "\n",
        "install_libraries(colab_flag)\n",
        "\n",
        "set_kaggle_credentials(colab_flag)\n",
        "\n",
        "kaggle_dataset = 'plant-pathology-2020-fgvc7'\n",
        "download_kaggle_data(kaggle_dataset)"
      ]
    },
    {
      "cell_type": "code",
      "source": [
        "\n",
        "set_kaggle_credentials(colab_flag)"
      ],
      "metadata": {
        "colab": {
          "base_uri": "https://localhost:8080/"
        },
        "id": "ZKNIerAlixwd",
        "outputId": "e1349dba-3cf1-4487-aa90-3b3983aba9e5"
      },
      "execution_count": null,
      "outputs": [
        {
          "output_type": "stream",
          "name": "stdout",
          "text": [
            "Drive already mounted at /content/drive/; to attempt to forcibly remount, call drive.mount(\"/content/drive/\", force_remount=True).\n",
            "Sucesfully set kaggle credentials\n"
          ]
        }
      ]
    },
    {
      "cell_type": "code",
      "source": [
        "download_kaggle_data(kaggle_dataset)"
      ],
      "metadata": {
        "id": "zLUdNN158JHs",
        "outputId": "bf639795-06bc-4a4c-aa27-c22993912715",
        "colab": {
          "base_uri": "https://localhost:8080/"
        }
      },
      "execution_count": null,
      "outputs": [
        {
          "output_type": "stream",
          "name": "stdout",
          "text": [
            "Data not detected, starting download\n",
            "Error: Kaggle credentials not set. Please set them before downloading data.\n"
          ]
        }
      ]
    },
    {
      "cell_type": "code",
      "source": [],
      "metadata": {
        "id": "FDRGnWmu8G-d"
      },
      "execution_count": null,
      "outputs": []
    }
  ],
  "metadata": {
    "kernelspec": {
      "display_name": "Python 3",
      "name": "python3"
    },
    "language_info": {
      "codemirror_mode": {
        "name": "ipython",
        "version": 3
      },
      "file_extension": ".py",
      "mimetype": "text/x-python",
      "name": "python",
      "nbconvert_exporter": "python",
      "pygments_lexer": "ipython3",
      "version": "3.11.0"
    },
    "orig_nbformat": 4,
    "colab": {
      "provenance": []
    }
  },
  "nbformat": 4,
  "nbformat_minor": 0
}